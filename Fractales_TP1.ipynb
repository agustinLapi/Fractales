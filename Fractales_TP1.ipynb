{
  "nbformat": 4,
  "nbformat_minor": 0,
  "metadata": {
    "colab": {
      "name": "Fractales-TP1.ipynb",
      "provenance": [],
      "authorship_tag": "ABX9TyNxn3d5r/r3h/IcTikl/1Rc",
      "include_colab_link": true
    },
    "kernelspec": {
      "name": "python3",
      "display_name": "Python 3"
    },
    "language_info": {
      "name": "python"
    }
  },
  "cells": [
    {
      "cell_type": "markdown",
      "metadata": {
        "id": "view-in-github",
        "colab_type": "text"
      },
      "source": [
        "<a href=\"https://colab.research.google.com/github/agustinLapi/Fractales/blob/main/Fractales_TP1.ipynb\" target=\"_parent\"><img src=\"https://colab.research.google.com/assets/colab-badge.svg\" alt=\"Open In Colab\"/></a>"
      ]
    },
    {
      "cell_type": "code",
      "execution_count": null,
      "metadata": {
        "colab": {
          "base_uri": "https://localhost:8080/"
        },
        "id": "kE6AvyPITYL4",
        "outputId": "ef2fa226-5eaa-4684-99e6-22e69a089e9f"
      },
      "outputs": [
        {
          "output_type": "stream",
          "name": "stdout",
          "text": [
            "Mounted at /content/drive\n"
          ]
        }
      ],
      "source": [
        "import numpy as np\n",
        "import matplotlib.pyplot as plt\n",
        "import imageio as iio\n",
        "\n",
        "# Load the Drive helper and mount\n",
        "from google.colab import drive\n",
        "\n",
        "# This will prompt for authorization.\n",
        "drive.mount('/content/drive')\n",
        "#!ls \"/content/drive/My Drive\"\n",
        "\n",
        "#a = iio.imread('binary_dots.png')\n",
        "#print(a)\n",
        "\n",
        "#def box_counting(img):\n",
        "#    h,w = img.shape\n",
        "\n",
        " #   return"
      ]
    },
    {
      "cell_type": "code",
      "source": [
        "a= iio.imread( \"/content/drive/My Drive/binary_dots.png\")[:,:,0]//255\n",
        "print(a)"
      ],
      "metadata": {
        "colab": {
          "base_uri": "https://localhost:8080/"
        },
        "id": "0zwdrYpuVB6g",
        "outputId": "56767728-868d-4045-ad91-257da223376c"
      },
      "execution_count": 5,
      "outputs": [
        {
          "output_type": "stream",
          "name": "stdout",
          "text": [
            "[[0 0 0 ... 0 0 0]\n",
            " [0 0 0 ... 0 0 0]\n",
            " [0 0 0 ... 0 0 0]\n",
            " ...\n",
            " [0 0 0 ... 0 0 0]\n",
            " [0 0 0 ... 0 0 0]\n",
            " [0 0 0 ... 0 0 0]]\n"
          ]
        }
      ]
    },
    {
      "cell_type": "code",
      "source": [
        "plt.imshow(a, 'gray')\n",
        "plt.show()"
      ],
      "metadata": {
        "colab": {
          "base_uri": "https://localhost:8080/",
          "height": 269
        },
        "id": "Qn1J4-iN4da6",
        "outputId": "5002b9a1-7c55-4faa-9c56-eb0c54da24cb"
      },
      "execution_count": 6,
      "outputs": [
        {
          "output_type": "display_data",
          "data": {
            "text/plain": [
              "<Figure size 432x288 with 1 Axes>"
            ],
            "image/png": "[encoded data removed]"
          },
          "metadata": {
            "needs_background": "light"
          }
        }
      ]
    },
    {
      "cell_type": "code",
      "source": [
        "import math\n",
        "def box_counting(img):\n",
        "  h,w = img.shape\n",
        "  h_l = math.log2(h)\n",
        "  w_l = math.log2(w)\n",
        "  if h_l > w_l:\n",
        "      my_vec = np.arange(int(math.floor(w_l)))\n",
        "  else:      \n",
        "      my_vec = np.arange(int(math.floor(h_l)))\n",
        "  Reg = 2**my_vec\n",
        "  #print(Reg)\n",
        "  box_counts= []\n",
        "  media = []\n",
        "  for kk in Reg:\n",
        "    ss_w = w//kk\n",
        "    ss_h = h//kk\n",
        "    aux = 0\n",
        "    if kk <4 :\n",
        "      for LL in range(kk):\n",
        "        for ii in range(0, w, ss_h):\n",
        "          for jj in range(0, h, ss_w):\n",
        "            if np.any(img[ii+LL:ii+ss_h+LL, jj+LL:jj+ss_w+LL] == 1):\n",
        "              aux = aux+1\n",
        "    else :\n",
        "      for LL in range(4):\n",
        "        for ii in range(0, w, ss_h):\n",
        "          for jj in range(0, h, ss_w):\n",
        "            if np.any(img[ii+LL:ii+ss_h+LL, jj+LL:jj+ss_w+LL] == 1):\n",
        "              aux = aux+1\n",
        "\n",
        "    box_counts.append(aux/kk)\n",
        "  #Now running the whole image once again to reach pixel count\n",
        "  if ((h_l-math.floor(h_l)!=0) | (w_l-math.floor(w_l)!=0)):\n",
        "    aux =0\n",
        "    for ii in range(h):\n",
        "      for jj in range(w):\n",
        "        if np.any(img[ii, jj] == 1):\n",
        "          aux = aux+1\n",
        "    box_counts.append(aux)\n",
        "  #my_vec.append(math.log2(h))\n",
        "  #Reg.append(2**math.log2(h))\n",
        "  print(\"Reg = \", Reg, 2**math.log2(h))\n",
        "  my_vec_2 =[]\n",
        "  for i in my_vec:\n",
        "    my_vec_2.append(math.log2(1/i))\n",
        "  my_vec_2.append(math.log2(1/math.log2(h)))\n",
        "  print(\"log(1/Reg)\", my_vec_2)\n",
        "  print(\"media = \", box_counts)\n",
        "  log_media = []\n",
        "  for i in box_counts:\n",
        "    log_media.append(math.log2(i))\n",
        "  #log_media = math.log2(box_counts)\n",
        "  print(\"log(media) = \",log_media)\n",
        "  return "
      ],
      "metadata": {
        "id": "Nr0DVfjZ-pux"
      },
      "execution_count": 7,
      "outputs": []
    },
    {
      "cell_type": "code",
      "source": [
        "box_counting(a)"
      ],
      "metadata": {
        "colab": {
          "base_uri": "https://localhost:8080/"
        },
        "id": "DzqdmUxnl9O1",
        "outputId": "0148aebd-eed0-488a-afe5-1673fc2989b7"
      },
      "execution_count": 8,
      "outputs": [
        {
          "output_type": "stream",
          "name": "stdout",
          "text": [
            "Reg =  [  1   2   4   8  16  32  64 128 256] 1015.9999999999998\n",
            "log(1/Reg) [inf, 0.0, -1.0, -1.5849625007211563, -2.0, -2.321928094887362, -2.584962500721156, -2.807354922057604, -3.0, -3.3202947159752965]\n",
            "media =  [1.0, 4.0, 12.0, 15.75, 19.5625, 32.15625, 57.84375, 114.8046875, 257.8203125, 193437]\n",
            "log(media) =  [0.0, 2.0, 3.584962500721156, 3.9772799234999163, 4.290018846932618, 5.007027266893968, 5.854089179870574, 6.843037738538695, 8.0102221213897, 17.561504249660242]\n"
          ]
        },
        {
          "output_type": "stream",
          "name": "stderr",
          "text": [
            "/usr/local/lib/python3.7/dist-packages/ipykernel_launcher.py:45: RuntimeWarning: divide by zero encountered in long_scalars\n"
          ]
        }
      ]
    }
  ]
}