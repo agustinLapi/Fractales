{
  "nbformat": 4,
  "nbformat_minor": 0,
  "metadata": {
    "colab": {
      "name": "Fractales-TP6.ipynb",
      "provenance": [],
      "collapsed_sections": [],
      "authorship_tag": "ABX9TyNeYUApqsj4uKWIYeoI4X/Z",
      "include_colab_link": true
    },
    "kernelspec": {
      "name": "python3",
      "display_name": "Python 3"
    },
    "language_info": {
      "name": "python"
    }
  },
  "cells": [
    {
      "cell_type": "markdown",
      "metadata": {
        "id": "view-in-github",
        "colab_type": "text"
      },
      "source": [
        "<a href=\"https://colab.research.google.com/github/agustinLapi/Fractales/blob/main/Fractales_TP6.ipynb\" target=\"_parent\"><img src=\"https://colab.research.google.com/assets/colab-badge.svg\" alt=\"Open In Colab\"/></a>"
      ]
    },
    {
      "cell_type": "code",
      "source": [
        "!pip3 install ColabTurtle"
      ],
      "metadata": {
        "colab": {
          "base_uri": "https://localhost:8080/"
        },
        "id": "vHDrg1DIknj-",
        "outputId": "946de77c-c576-4db0-d3e1-5fcc2f4a62c0"
      },
      "execution_count": null,
      "outputs": [
        {
          "output_type": "stream",
          "name": "stdout",
          "text": [
            "Looking in indexes: https://pypi.org/simple, https://us-python.pkg.dev/colab-wheels/public/simple/\n",
            "Collecting ColabTurtle\n",
            "  Downloading ColabTurtle-2.1.0.tar.gz (6.8 kB)\n",
            "Building wheels for collected packages: ColabTurtle\n",
            "  Building wheel for ColabTurtle (setup.py) ... \u001b[?25l\u001b[?25hdone\n",
            "  Created wheel for ColabTurtle: filename=ColabTurtle-2.1.0-py3-none-any.whl size=7657 sha256=887f6616a361f5e89b77e89fea0e48d5b0dbd559cebb1be62a8a09fafef830f4\n",
            "  Stored in directory: /root/.cache/pip/wheels/0d/ab/65/cc4478508751448dfb4ecb20a6533082855c227dfce8c13902\n",
            "Successfully built ColabTurtle\n",
            "Installing collected packages: ColabTurtle\n",
            "Successfully installed ColabTurtle-2.1.0\n"
          ]
        }
      ]
    },
    {
      "cell_type": "code",
      "execution_count": null,
      "metadata": {
        "id": "MISX5HD9Amkh"
      },
      "outputs": [],
      "source": [
        "import numpy as np\n",
        "import matplotlib.pyplot as plt\n",
        "from ColabTurtle.Turtle import *"
      ]
    },
    {
      "cell_type": "markdown",
      "source": [
        " \n",
        "[Turlte documentation](https://larryriddle.agnesscott.org/ColabTurtlePlus/documentation.html)"
      ],
      "metadata": {
        "id": "UQFeRSEVPcbi"
      }
    },
    {
      "cell_type": "code",
      "source": [
        "def regla(c):\n",
        "  if c=='1': return '101'\n",
        "  elif c=='0': return '000'\n",
        "  elif c=='f': return 'f-f++f-f'\n",
        "  elif c=='F': return 'F-G+F+G-F'\n",
        "  elif c=='G': return 'GG'\n",
        "  elif c=='R': return '-LF+RFR+FL-'\n",
        "  elif c=='L': return '+RF-LFL-FR+'\n",
        "  elif c=='r': return '-l+r+l-'\n",
        "  elif c=='l': return '+r-l-r+'\n",
        "  #elif c=='x': return 'x[+x]x[-x]x'\n",
        "  else: return c\n",
        "\n",
        "def macro(c):\n",
        "  if c=='R' : return '-F+F+F-'\n",
        "  elif c=='r' : return '-F+F+F-'\n",
        "  elif c=='L' : return '+F-F-F+'\n",
        "  elif c=='l': return '+F-F-F+'\n",
        "  else: return c\n",
        "\n",
        "def derivar(S):\n",
        "  salida =''\n",
        "  for x in S:\n",
        "    salida += regla(x) \n",
        "  return salida\n",
        "\n",
        "def derivar_macro(S):\n",
        "  salida =''\n",
        "  for x in S:\n",
        "    salida += macro(x) \n",
        "  return salida\n",
        "\n",
        "def init_turtle():\n",
        "  initializeTurtle()\n",
        "  setposition(0,250)\n",
        "  clear()\n",
        "  setheading(0)\n",
        "  position()\n",
        "  return\n",
        "\n",
        "def iterar(_str,x, to_angle):\n",
        "  init_turtle()\n",
        "  for i in range(x):\n",
        "    _str= derivar(_str)\n",
        "  for x in _str:\n",
        "    if x== 'L':\n",
        "      macro=True\n",
        "    elif x== 'R':\n",
        "      macro =True\n",
        "    elif x== 'l':\n",
        "      macro=True\n",
        "    elif x== 'r':\n",
        "      macro =True\n",
        "    else : macro =False\n",
        "  if macro :\n",
        "    _str = derivar_macro(_str)\n",
        "  ll = len(_str)-_str.count('+')-_str.count('-')\n",
        "  step_x = window_width()/ll\n",
        "  step_y = window_height()/ll\n",
        "  for c in _str:\n",
        "    if c == 'f':\n",
        "      pd()\n",
        "      forward(step_x)\n",
        "    elif c=='F':\n",
        "      pd()\n",
        "      forward(step_x)\n",
        "    elif c=='1':\n",
        "      pd()\n",
        "      forward(step_x)\n",
        "    elif c=='0':\n",
        "      pu()\n",
        "      forward(step_x)\n",
        "    #elif c=='x':\n",
        "     # pd()\n",
        "      #forward(step_x)\n",
        "    elif c=='G':\n",
        "      pd()\n",
        "      forward(step_x)\n",
        "    elif c=='-':\n",
        "      pd()\n",
        "      left(to_angle)\n",
        "    elif c=='+':\n",
        "      pd()\n",
        "      right(to_angle)\n",
        "\n"
      ],
      "metadata": {
        "id": "ecADpPiTAsPR"
      },
      "execution_count": null,
      "outputs": []
    },
    {
      "cell_type": "code",
      "source": [
        "a ='f'\n",
        "print(len(a))\n",
        "aa = len(a)-a.count('-')-a.count('+')"
      ],
      "metadata": {
        "colab": {
          "base_uri": "https://localhost:8080/"
        },
        "id": "4Wa0dSPYzFpS",
        "outputId": "9c3beb14-7607-4158-f0ef-910a3671ffd8"
      },
      "execution_count": null,
      "outputs": [
        {
          "output_type": "stream",
          "name": "stdout",
          "text": [
            "1\n"
          ]
        }
      ]
    },
    {
      "cell_type": "code",
      "source": [
        "my_c = '1'\n",
        "iterar(my_c,2, 45)"
      ],
      "metadata": {
        "colab": {
          "base_uri": "https://localhost:8080/",
          "height": 539
        },
        "id": "W3N4QoK-Ouo8",
        "outputId": "904eee56-8703-4dd6-b84b-87a9e566defa"
      },
      "execution_count": null,
      "outputs": [
        {
          "output_type": "display_data",
          "data": {
            "text/plain": [
              "<IPython.core.display.HTML object>"
            ],
            "text/html": [
              "\n",
              "      <svg width=\"800\" height=\"500\">\n",
              "        <rect width=\"100%\" height=\"100%\" fill=\"black\"/>\n",
              "        <line x1=\"0\" y1=\"250\" x2=\"88.889\" y2=\"250.0\" stroke-linecap=\"round\" style=\"stroke:white;stroke-width:4\"/><line x1=\"177.778\" y1=\"250.0\" x2=\"266.667\" y2=\"250.0\" stroke-linecap=\"round\" style=\"stroke:white;stroke-width:4\"/><line x1=\"533.334\" y1=\"250.0\" x2=\"622.223\" y2=\"250.0\" stroke-linecap=\"round\" style=\"stroke:white;stroke-width:4\"/><line x1=\"711.112\" y1=\"250.0\" x2=\"800.001\" y2=\"250.0\" stroke-linecap=\"round\" style=\"stroke:white;stroke-width:4\"/>\n",
              "        <g visibility=visible transform=\"rotate(90,800.001,250.0) translate(782.001, 232.0)\">\n",
              "<path style=\" stroke:none;fill-rule:evenodd;fill:white;fill-opacity:1;\" d=\"M 18.214844 0.632812 C 16.109375 1.800781 15.011719 4.074219 15.074219 7.132812 L 15.085938 7.652344 L 14.785156 7.496094 C 13.476562 6.824219 11.957031 6.671875 10.40625 7.066406 C 8.46875 7.550781 6.515625 9.15625 4.394531 11.992188 C 3.0625 13.777344 2.679688 14.636719 3.042969 15.027344 L 3.15625 15.152344 L 3.519531 15.152344 C 4.238281 15.152344 4.828125 14.886719 8.1875 13.039062 C 9.386719 12.378906 10.371094 11.839844 10.378906 11.839844 C 10.386719 11.839844 10.355469 11.929688 10.304688 12.035156 C 9.832031 13.09375 9.257812 14.820312 8.96875 16.078125 C 7.914062 20.652344 8.617188 24.53125 11.070312 27.660156 C 11.351562 28.015625 11.363281 27.914062 10.972656 28.382812 C 8.925781 30.84375 7.945312 33.28125 8.238281 35.1875 C 8.289062 35.527344 8.28125 35.523438 8.917969 35.523438 C 10.941406 35.523438 13.074219 34.207031 15.136719 31.6875 C 15.359375 31.417969 15.328125 31.425781 15.5625 31.574219 C 16.292969 32.042969 18.023438 32.964844 18.175781 32.964844 C 18.335938 32.964844 19.941406 32.210938 20.828125 31.71875 C 20.996094 31.625 21.136719 31.554688 21.136719 31.558594 C 21.203125 31.664062 21.898438 32.414062 22.222656 32.730469 C 23.835938 34.300781 25.5625 35.132812 27.582031 35.300781 C 27.90625 35.328125 27.9375 35.308594 28.007812 34.984375 C 28.382812 33.242188 27.625 30.925781 25.863281 28.425781 L 25.542969 27.96875 L 25.699219 27.785156 C 28.945312 23.960938 29.132812 18.699219 26.257812 11.96875 L 26.207031 11.84375 L 27.945312 12.703125 C 31.53125 14.476562 32.316406 14.800781 33.03125 14.800781 C 33.976562 14.800781 33.78125 13.9375 32.472656 12.292969 C 28.519531 7.355469 25.394531 5.925781 21.921875 7.472656 L 21.558594 7.636719 L 21.578125 7.542969 C 21.699219 6.992188 21.761719 5.742188 21.699219 5.164062 C 21.496094 3.296875 20.664062 1.964844 19.003906 0.855469 C 18.480469 0.503906 18.457031 0.5 18.214844 0.632812\"/>\n",
              "</g>\n",
              "      </svg>\n",
              "    "
            ]
          },
          "metadata": {}
        },
        {
          "output_type": "stream",
          "name": "stdout",
          "text": [
            "101000101\n"
          ]
        }
      ]
    },
    {
      "cell_type": "code",
      "source": [
        "my_c = '1'\n",
        "iterar(my_c,4)"
      ],
      "metadata": {
        "colab": {
          "base_uri": "https://localhost:8080/",
          "height": 522
        },
        "id": "bnrCXXV2PQYG",
        "outputId": "8c3df71d-5bb9-4cd7-8800-5fba3e60de11"
      },
      "execution_count": null,
      "outputs": [
        {
          "output_type": "display_data",
          "data": {
            "text/plain": [
              "<IPython.core.display.HTML object>"
            ],
            "text/html": [
              "\n",
              "      <svg width=\"800\" height=\"500\">\n",
              "        <rect width=\"100%\" height=\"100%\" fill=\"black\"/>\n",
              "        <line x1=\"0\" y1=\"250\" x2=\"9.877\" y2=\"250.0\" stroke-linecap=\"round\" style=\"stroke:white;stroke-width:4\"/><line x1=\"19.754\" y1=\"250.0\" x2=\"29.631\" y2=\"250.0\" stroke-linecap=\"round\" style=\"stroke:white;stroke-width:4\"/><line x1=\"59.262\" y1=\"250.0\" x2=\"69.139\" y2=\"250.0\" stroke-linecap=\"round\" style=\"stroke:white;stroke-width:4\"/><line x1=\"79.016\" y1=\"250.0\" x2=\"88.893\" y2=\"250.0\" stroke-linecap=\"round\" style=\"stroke:white;stroke-width:4\"/><line x1=\"177.786\" y1=\"250.0\" x2=\"187.663\" y2=\"250.0\" stroke-linecap=\"round\" style=\"stroke:white;stroke-width:4\"/><line x1=\"197.54\" y1=\"250.0\" x2=\"207.417\" y2=\"250.0\" stroke-linecap=\"round\" style=\"stroke:white;stroke-width:4\"/><line x1=\"237.048\" y1=\"250.0\" x2=\"246.925\" y2=\"250.0\" stroke-linecap=\"round\" style=\"stroke:white;stroke-width:4\"/><line x1=\"256.802\" y1=\"250.0\" x2=\"266.679\" y2=\"250.0\" stroke-linecap=\"round\" style=\"stroke:white;stroke-width:4\"/><line x1=\"533.358\" y1=\"250.0\" x2=\"543.235\" y2=\"250.0\" stroke-linecap=\"round\" style=\"stroke:white;stroke-width:4\"/><line x1=\"553.112\" y1=\"250.0\" x2=\"562.989\" y2=\"250.0\" stroke-linecap=\"round\" style=\"stroke:white;stroke-width:4\"/><line x1=\"592.62\" y1=\"250.0\" x2=\"602.497\" y2=\"250.0\" stroke-linecap=\"round\" style=\"stroke:white;stroke-width:4\"/><line x1=\"612.374\" y1=\"250.0\" x2=\"622.251\" y2=\"250.0\" stroke-linecap=\"round\" style=\"stroke:white;stroke-width:4\"/><line x1=\"711.144\" y1=\"250.0\" x2=\"721.021\" y2=\"250.0\" stroke-linecap=\"round\" style=\"stroke:white;stroke-width:4\"/><line x1=\"730.898\" y1=\"250.0\" x2=\"740.775\" y2=\"250.0\" stroke-linecap=\"round\" style=\"stroke:white;stroke-width:4\"/><line x1=\"770.406\" y1=\"250.0\" x2=\"780.283\" y2=\"250.0\" stroke-linecap=\"round\" style=\"stroke:white;stroke-width:4\"/><line x1=\"790.16\" y1=\"250.0\" x2=\"800.037\" y2=\"250.0\" stroke-linecap=\"round\" style=\"stroke:white;stroke-width:4\"/>\n",
              "        <g visibility=visible transform=\"rotate(90,800.037,250.0) translate(782.037, 232.0)\">\n",
              "<path style=\" stroke:none;fill-rule:evenodd;fill:white;fill-opacity:1;\" d=\"M 18.214844 0.632812 C 16.109375 1.800781 15.011719 4.074219 15.074219 7.132812 L 15.085938 7.652344 L 14.785156 7.496094 C 13.476562 6.824219 11.957031 6.671875 10.40625 7.066406 C 8.46875 7.550781 6.515625 9.15625 4.394531 11.992188 C 3.0625 13.777344 2.679688 14.636719 3.042969 15.027344 L 3.15625 15.152344 L 3.519531 15.152344 C 4.238281 15.152344 4.828125 14.886719 8.1875 13.039062 C 9.386719 12.378906 10.371094 11.839844 10.378906 11.839844 C 10.386719 11.839844 10.355469 11.929688 10.304688 12.035156 C 9.832031 13.09375 9.257812 14.820312 8.96875 16.078125 C 7.914062 20.652344 8.617188 24.53125 11.070312 27.660156 C 11.351562 28.015625 11.363281 27.914062 10.972656 28.382812 C 8.925781 30.84375 7.945312 33.28125 8.238281 35.1875 C 8.289062 35.527344 8.28125 35.523438 8.917969 35.523438 C 10.941406 35.523438 13.074219 34.207031 15.136719 31.6875 C 15.359375 31.417969 15.328125 31.425781 15.5625 31.574219 C 16.292969 32.042969 18.023438 32.964844 18.175781 32.964844 C 18.335938 32.964844 19.941406 32.210938 20.828125 31.71875 C 20.996094 31.625 21.136719 31.554688 21.136719 31.558594 C 21.203125 31.664062 21.898438 32.414062 22.222656 32.730469 C 23.835938 34.300781 25.5625 35.132812 27.582031 35.300781 C 27.90625 35.328125 27.9375 35.308594 28.007812 34.984375 C 28.382812 33.242188 27.625 30.925781 25.863281 28.425781 L 25.542969 27.96875 L 25.699219 27.785156 C 28.945312 23.960938 29.132812 18.699219 26.257812 11.96875 L 26.207031 11.84375 L 27.945312 12.703125 C 31.53125 14.476562 32.316406 14.800781 33.03125 14.800781 C 33.976562 14.800781 33.78125 13.9375 32.472656 12.292969 C 28.519531 7.355469 25.394531 5.925781 21.921875 7.472656 L 21.558594 7.636719 L 21.578125 7.542969 C 21.699219 6.992188 21.761719 5.742188 21.699219 5.164062 C 21.496094 3.296875 20.664062 1.964844 19.003906 0.855469 C 18.480469 0.503906 18.457031 0.5 18.214844 0.632812\"/>\n",
              "</g>\n",
              "      </svg>\n",
              "    "
            ]
          },
          "metadata": {}
        }
      ]
    },
    {
      "cell_type": "code",
      "source": [
        "my_c = 'f'\n",
        "ang = 60\n",
        "iterar(my_c,1, ang)"
      ],
      "metadata": {
        "colab": {
          "base_uri": "https://localhost:8080/",
          "height": 522
        },
        "id": "G4j2OEydQIcf",
        "outputId": "6caa63b0-b121-4836-809b-48326d46c2bc"
      },
      "execution_count": null,
      "outputs": [
        {
          "output_type": "display_data",
          "data": {
            "text/plain": [
              "<IPython.core.display.HTML object>"
            ],
            "text/html": [
              "\n",
              "      <svg width=\"800\" height=\"500\">\n",
              "        <rect width=\"100%\" height=\"100%\" fill=\"black\"/>\n",
              "        <line x1=\"0\" y1=\"250\" x2=\"200.0\" y2=\"250.0\" stroke-linecap=\"round\" style=\"stroke:white;stroke-width:4\"/><line x1=\"200.0\" y1=\"250.0\" x2=\"300.0\" y2=\"76.795\" stroke-linecap=\"round\" style=\"stroke:white;stroke-width:4\"/><line x1=\"300.0\" y1=\"76.795\" x2=\"400.0\" y2=\"250.0\" stroke-linecap=\"round\" style=\"stroke:white;stroke-width:4\"/><line x1=\"400.0\" y1=\"250.0\" x2=\"600.0\" y2=\"250.0\" stroke-linecap=\"round\" style=\"stroke:white;stroke-width:4\"/>\n",
              "        <g visibility=visible transform=\"rotate(90,600.0,250.0) translate(582.0, 232.0)\">\n",
              "<path style=\" stroke:none;fill-rule:evenodd;fill:white;fill-opacity:1;\" d=\"M 18.214844 0.632812 C 16.109375 1.800781 15.011719 4.074219 15.074219 7.132812 L 15.085938 7.652344 L 14.785156 7.496094 C 13.476562 6.824219 11.957031 6.671875 10.40625 7.066406 C 8.46875 7.550781 6.515625 9.15625 4.394531 11.992188 C 3.0625 13.777344 2.679688 14.636719 3.042969 15.027344 L 3.15625 15.152344 L 3.519531 15.152344 C 4.238281 15.152344 4.828125 14.886719 8.1875 13.039062 C 9.386719 12.378906 10.371094 11.839844 10.378906 11.839844 C 10.386719 11.839844 10.355469 11.929688 10.304688 12.035156 C 9.832031 13.09375 9.257812 14.820312 8.96875 16.078125 C 7.914062 20.652344 8.617188 24.53125 11.070312 27.660156 C 11.351562 28.015625 11.363281 27.914062 10.972656 28.382812 C 8.925781 30.84375 7.945312 33.28125 8.238281 35.1875 C 8.289062 35.527344 8.28125 35.523438 8.917969 35.523438 C 10.941406 35.523438 13.074219 34.207031 15.136719 31.6875 C 15.359375 31.417969 15.328125 31.425781 15.5625 31.574219 C 16.292969 32.042969 18.023438 32.964844 18.175781 32.964844 C 18.335938 32.964844 19.941406 32.210938 20.828125 31.71875 C 20.996094 31.625 21.136719 31.554688 21.136719 31.558594 C 21.203125 31.664062 21.898438 32.414062 22.222656 32.730469 C 23.835938 34.300781 25.5625 35.132812 27.582031 35.300781 C 27.90625 35.328125 27.9375 35.308594 28.007812 34.984375 C 28.382812 33.242188 27.625 30.925781 25.863281 28.425781 L 25.542969 27.96875 L 25.699219 27.785156 C 28.945312 23.960938 29.132812 18.699219 26.257812 11.96875 L 26.207031 11.84375 L 27.945312 12.703125 C 31.53125 14.476562 32.316406 14.800781 33.03125 14.800781 C 33.976562 14.800781 33.78125 13.9375 32.472656 12.292969 C 28.519531 7.355469 25.394531 5.925781 21.921875 7.472656 L 21.558594 7.636719 L 21.578125 7.542969 C 21.699219 6.992188 21.761719 5.742188 21.699219 5.164062 C 21.496094 3.296875 20.664062 1.964844 19.003906 0.855469 C 18.480469 0.503906 18.457031 0.5 18.214844 0.632812\"/>\n",
              "</g>\n",
              "      </svg>\n",
              "    "
            ]
          },
          "metadata": {}
        }
      ]
    },
    {
      "cell_type": "code",
      "source": [
        "my_c = 'f'\n",
        "ang = 60\n",
        "iterar(my_c,2, ang)\n"
      ],
      "metadata": {
        "colab": {
          "base_uri": "https://localhost:8080/",
          "height": 522
        },
        "id": "TEX5KflUKusA",
        "outputId": "904c0c37-814e-4a13-a7a6-82037bf3d651"
      },
      "execution_count": null,
      "outputs": [
        {
          "output_type": "display_data",
          "data": {
            "text/plain": [
              "<IPython.core.display.HTML object>"
            ],
            "text/html": [
              "\n",
              "      <svg width=\"800\" height=\"500\">\n",
              "        <rect width=\"100%\" height=\"100%\" fill=\"black\"/>\n",
              "        <line x1=\"0\" y1=\"250\" x2=\"50.0\" y2=\"250.0\" stroke-linecap=\"round\" style=\"stroke:white;stroke-width:4\"/><line x1=\"50.0\" y1=\"250.0\" x2=\"75.0\" y2=\"206.699\" stroke-linecap=\"round\" style=\"stroke:white;stroke-width:4\"/><line x1=\"75.0\" y1=\"206.699\" x2=\"100.0\" y2=\"250.0\" stroke-linecap=\"round\" style=\"stroke:white;stroke-width:4\"/><line x1=\"100.0\" y1=\"250.0\" x2=\"150.0\" y2=\"250.0\" stroke-linecap=\"round\" style=\"stroke:white;stroke-width:4\"/><line x1=\"150.0\" y1=\"250.0\" x2=\"175.0\" y2=\"206.699\" stroke-linecap=\"round\" style=\"stroke:white;stroke-width:4\"/><line x1=\"175.0\" y1=\"206.699\" x2=\"150.0\" y2=\"163.398\" stroke-linecap=\"round\" style=\"stroke:white;stroke-width:4\"/><line x1=\"150.0\" y1=\"163.398\" x2=\"200.0\" y2=\"163.398\" stroke-linecap=\"round\" style=\"stroke:white;stroke-width:4\"/><line x1=\"200.0\" y1=\"163.398\" x2=\"225.0\" y2=\"120.097\" stroke-linecap=\"round\" style=\"stroke:white;stroke-width:4\"/><line x1=\"225.0\" y1=\"120.097\" x2=\"250.0\" y2=\"163.398\" stroke-linecap=\"round\" style=\"stroke:white;stroke-width:4\"/><line x1=\"250.0\" y1=\"163.398\" x2=\"300.0\" y2=\"163.398\" stroke-linecap=\"round\" style=\"stroke:white;stroke-width:4\"/><line x1=\"300.0\" y1=\"163.398\" x2=\"275.0\" y2=\"206.699\" stroke-linecap=\"round\" style=\"stroke:white;stroke-width:4\"/><line x1=\"275.0\" y1=\"206.699\" x2=\"300.0\" y2=\"250.0\" stroke-linecap=\"round\" style=\"stroke:white;stroke-width:4\"/><line x1=\"300.0\" y1=\"250.0\" x2=\"350.0\" y2=\"250.0\" stroke-linecap=\"round\" style=\"stroke:white;stroke-width:4\"/><line x1=\"350.0\" y1=\"250.0\" x2=\"375.0\" y2=\"206.699\" stroke-linecap=\"round\" style=\"stroke:white;stroke-width:4\"/><line x1=\"375.0\" y1=\"206.699\" x2=\"400.0\" y2=\"250.0\" stroke-linecap=\"round\" style=\"stroke:white;stroke-width:4\"/><line x1=\"400.0\" y1=\"250.0\" x2=\"450.0\" y2=\"250.0\" stroke-linecap=\"round\" style=\"stroke:white;stroke-width:4\"/>\n",
              "        <g visibility=visible transform=\"rotate(90,450.0,250.0) translate(432.0, 232.0)\">\n",
              "<path style=\" stroke:none;fill-rule:evenodd;fill:white;fill-opacity:1;\" d=\"M 18.214844 0.632812 C 16.109375 1.800781 15.011719 4.074219 15.074219 7.132812 L 15.085938 7.652344 L 14.785156 7.496094 C 13.476562 6.824219 11.957031 6.671875 10.40625 7.066406 C 8.46875 7.550781 6.515625 9.15625 4.394531 11.992188 C 3.0625 13.777344 2.679688 14.636719 3.042969 15.027344 L 3.15625 15.152344 L 3.519531 15.152344 C 4.238281 15.152344 4.828125 14.886719 8.1875 13.039062 C 9.386719 12.378906 10.371094 11.839844 10.378906 11.839844 C 10.386719 11.839844 10.355469 11.929688 10.304688 12.035156 C 9.832031 13.09375 9.257812 14.820312 8.96875 16.078125 C 7.914062 20.652344 8.617188 24.53125 11.070312 27.660156 C 11.351562 28.015625 11.363281 27.914062 10.972656 28.382812 C 8.925781 30.84375 7.945312 33.28125 8.238281 35.1875 C 8.289062 35.527344 8.28125 35.523438 8.917969 35.523438 C 10.941406 35.523438 13.074219 34.207031 15.136719 31.6875 C 15.359375 31.417969 15.328125 31.425781 15.5625 31.574219 C 16.292969 32.042969 18.023438 32.964844 18.175781 32.964844 C 18.335938 32.964844 19.941406 32.210938 20.828125 31.71875 C 20.996094 31.625 21.136719 31.554688 21.136719 31.558594 C 21.203125 31.664062 21.898438 32.414062 22.222656 32.730469 C 23.835938 34.300781 25.5625 35.132812 27.582031 35.300781 C 27.90625 35.328125 27.9375 35.308594 28.007812 34.984375 C 28.382812 33.242188 27.625 30.925781 25.863281 28.425781 L 25.542969 27.96875 L 25.699219 27.785156 C 28.945312 23.960938 29.132812 18.699219 26.257812 11.96875 L 26.207031 11.84375 L 27.945312 12.703125 C 31.53125 14.476562 32.316406 14.800781 33.03125 14.800781 C 33.976562 14.800781 33.78125 13.9375 32.472656 12.292969 C 28.519531 7.355469 25.394531 5.925781 21.921875 7.472656 L 21.558594 7.636719 L 21.578125 7.542969 C 21.699219 6.992188 21.761719 5.742188 21.699219 5.164062 C 21.496094 3.296875 20.664062 1.964844 19.003906 0.855469 C 18.480469 0.503906 18.457031 0.5 18.214844 0.632812\"/>\n",
              "</g>\n",
              "      </svg>\n",
              "    "
            ]
          },
          "metadata": {}
        }
      ]
    },
    {
      "cell_type": "code",
      "source": [
        "my_c = 'f'\n",
        "ang = 60\n",
        "iterar(my_c,3, ang)"
      ],
      "metadata": {
        "id": "SzhO6XwTfDXl",
        "colab": {
          "base_uri": "https://localhost:8080/",
          "height": 522
        },
        "outputId": "4adeb2ad-87da-47ec-edfe-b5118405798c"
      },
      "execution_count": null,
      "outputs": [
        {
          "output_type": "display_data",
          "data": {
            "text/plain": [
              "<IPython.core.display.HTML object>"
            ],
            "text/html": [
              "\n",
              "      <svg width=\"800\" height=\"500\">\n",
              "        <rect width=\"100%\" height=\"100%\" fill=\"black\"/>\n",
              "        <line x1=\"0\" y1=\"250\" x2=\"12.5\" y2=\"250.0\" stroke-linecap=\"round\" style=\"stroke:white;stroke-width:4\"/><line x1=\"12.5\" y1=\"250.0\" x2=\"18.75\" y2=\"239.175\" stroke-linecap=\"round\" style=\"stroke:white;stroke-width:4\"/><line x1=\"18.75\" y1=\"239.175\" x2=\"25.0\" y2=\"250.0\" stroke-linecap=\"round\" style=\"stroke:white;stroke-width:4\"/><line x1=\"25.0\" y1=\"250.0\" x2=\"37.5\" y2=\"250.0\" stroke-linecap=\"round\" style=\"stroke:white;stroke-width:4\"/><line x1=\"37.5\" y1=\"250.0\" x2=\"43.75\" y2=\"239.175\" stroke-linecap=\"round\" style=\"stroke:white;stroke-width:4\"/><line x1=\"43.75\" y1=\"239.175\" x2=\"37.5\" y2=\"228.35\" stroke-linecap=\"round\" style=\"stroke:white;stroke-width:4\"/><line x1=\"37.5\" y1=\"228.35\" x2=\"50.0\" y2=\"228.35\" stroke-linecap=\"round\" style=\"stroke:white;stroke-width:4\"/><line x1=\"50.0\" y1=\"228.35\" x2=\"56.25\" y2=\"217.525\" stroke-linecap=\"round\" style=\"stroke:white;stroke-width:4\"/><line x1=\"56.25\" y1=\"217.525\" x2=\"62.5\" y2=\"228.35\" stroke-linecap=\"round\" style=\"stroke:white;stroke-width:4\"/><line x1=\"62.5\" y1=\"228.35\" x2=\"75.0\" y2=\"228.35\" stroke-linecap=\"round\" style=\"stroke:white;stroke-width:4\"/><line x1=\"75.0\" y1=\"228.35\" x2=\"68.75\" y2=\"239.175\" stroke-linecap=\"round\" style=\"stroke:white;stroke-width:4\"/><line x1=\"68.75\" y1=\"239.175\" x2=\"75.0\" y2=\"250.0\" stroke-linecap=\"round\" style=\"stroke:white;stroke-width:4\"/><line x1=\"75.0\" y1=\"250.0\" x2=\"87.5\" y2=\"250.0\" stroke-linecap=\"round\" style=\"stroke:white;stroke-width:4\"/><line x1=\"87.5\" y1=\"250.0\" x2=\"93.75\" y2=\"239.175\" stroke-linecap=\"round\" style=\"stroke:white;stroke-width:4\"/><line x1=\"93.75\" y1=\"239.175\" x2=\"100.0\" y2=\"250.0\" stroke-linecap=\"round\" style=\"stroke:white;stroke-width:4\"/><line x1=\"100.0\" y1=\"250.0\" x2=\"112.5\" y2=\"250.0\" stroke-linecap=\"round\" style=\"stroke:white;stroke-width:4\"/><line x1=\"112.5\" y1=\"250.0\" x2=\"118.75\" y2=\"239.175\" stroke-linecap=\"round\" style=\"stroke:white;stroke-width:4\"/><line x1=\"118.75\" y1=\"239.175\" x2=\"112.5\" y2=\"228.35\" stroke-linecap=\"round\" style=\"stroke:white;stroke-width:4\"/><line x1=\"112.5\" y1=\"228.35\" x2=\"125.0\" y2=\"228.35\" stroke-linecap=\"round\" style=\"stroke:white;stroke-width:4\"/><line x1=\"125.0\" y1=\"228.35\" x2=\"131.25\" y2=\"217.525\" stroke-linecap=\"round\" style=\"stroke:white;stroke-width:4\"/><line x1=\"131.25\" y1=\"217.525\" x2=\"125.0\" y2=\"206.7\" stroke-linecap=\"round\" style=\"stroke:white;stroke-width:4\"/><line x1=\"125.0\" y1=\"206.7\" x2=\"112.5\" y2=\"206.7\" stroke-linecap=\"round\" style=\"stroke:white;stroke-width:4\"/><line x1=\"112.5\" y1=\"206.7\" x2=\"118.75\" y2=\"195.875\" stroke-linecap=\"round\" style=\"stroke:white;stroke-width:4\"/><line x1=\"118.75\" y1=\"195.875\" x2=\"112.5\" y2=\"185.05\" stroke-linecap=\"round\" style=\"stroke:white;stroke-width:4\"/><line x1=\"112.5\" y1=\"185.05\" x2=\"125.0\" y2=\"185.05\" stroke-linecap=\"round\" style=\"stroke:white;stroke-width:4\"/><line x1=\"125.0\" y1=\"185.05\" x2=\"131.25\" y2=\"174.225\" stroke-linecap=\"round\" style=\"stroke:white;stroke-width:4\"/><line x1=\"131.25\" y1=\"174.225\" x2=\"137.5\" y2=\"185.05\" stroke-linecap=\"round\" style=\"stroke:white;stroke-width:4\"/><line x1=\"137.5\" y1=\"185.05\" x2=\"150.0\" y2=\"185.05\" stroke-linecap=\"round\" style=\"stroke:white;stroke-width:4\"/><line x1=\"150.0\" y1=\"185.05\" x2=\"156.25\" y2=\"174.225\" stroke-linecap=\"round\" style=\"stroke:white;stroke-width:4\"/><line x1=\"156.25\" y1=\"174.225\" x2=\"150.0\" y2=\"163.4\" stroke-linecap=\"round\" style=\"stroke:white;stroke-width:4\"/><line x1=\"150.0\" y1=\"163.4\" x2=\"162.5\" y2=\"163.4\" stroke-linecap=\"round\" style=\"stroke:white;stroke-width:4\"/><line x1=\"162.5\" y1=\"163.4\" x2=\"168.75\" y2=\"152.575\" stroke-linecap=\"round\" style=\"stroke:white;stroke-width:4\"/><line x1=\"168.75\" y1=\"152.575\" x2=\"175.0\" y2=\"163.4\" stroke-linecap=\"round\" style=\"stroke:white;stroke-width:4\"/><line x1=\"175.0\" y1=\"163.4\" x2=\"187.5\" y2=\"163.4\" stroke-linecap=\"round\" style=\"stroke:white;stroke-width:4\"/><line x1=\"187.5\" y1=\"163.4\" x2=\"181.25\" y2=\"174.225\" stroke-linecap=\"round\" style=\"stroke:white;stroke-width:4\"/><line x1=\"181.25\" y1=\"174.225\" x2=\"187.5\" y2=\"185.05\" stroke-linecap=\"round\" style=\"stroke:white;stroke-width:4\"/><line x1=\"187.5\" y1=\"185.05\" x2=\"200.0\" y2=\"185.05\" stroke-linecap=\"round\" style=\"stroke:white;stroke-width:4\"/><line x1=\"200.0\" y1=\"185.05\" x2=\"206.25\" y2=\"174.225\" stroke-linecap=\"round\" style=\"stroke:white;stroke-width:4\"/><line x1=\"206.25\" y1=\"174.225\" x2=\"212.5\" y2=\"185.05\" stroke-linecap=\"round\" style=\"stroke:white;stroke-width:4\"/><line x1=\"212.5\" y1=\"185.05\" x2=\"225.0\" y2=\"185.05\" stroke-linecap=\"round\" style=\"stroke:white;stroke-width:4\"/><line x1=\"225.0\" y1=\"185.05\" x2=\"218.75\" y2=\"195.875\" stroke-linecap=\"round\" style=\"stroke:white;stroke-width:4\"/><line x1=\"218.75\" y1=\"195.875\" x2=\"225.0\" y2=\"206.7\" stroke-linecap=\"round\" style=\"stroke:white;stroke-width:4\"/><line x1=\"225.0\" y1=\"206.7\" x2=\"212.5\" y2=\"206.7\" stroke-linecap=\"round\" style=\"stroke:white;stroke-width:4\"/><line x1=\"212.5\" y1=\"206.7\" x2=\"206.25\" y2=\"217.525\" stroke-linecap=\"round\" style=\"stroke:white;stroke-width:4\"/><line x1=\"206.25\" y1=\"217.525\" x2=\"212.5\" y2=\"228.35\" stroke-linecap=\"round\" style=\"stroke:white;stroke-width:4\"/><line x1=\"212.5\" y1=\"228.35\" x2=\"225.0\" y2=\"228.35\" stroke-linecap=\"round\" style=\"stroke:white;stroke-width:4\"/><line x1=\"225.0\" y1=\"228.35\" x2=\"218.75\" y2=\"239.175\" stroke-linecap=\"round\" style=\"stroke:white;stroke-width:4\"/><line x1=\"218.75\" y1=\"239.175\" x2=\"225.0\" y2=\"250.0\" stroke-linecap=\"round\" style=\"stroke:white;stroke-width:4\"/><line x1=\"225.0\" y1=\"250.0\" x2=\"237.5\" y2=\"250.0\" stroke-linecap=\"round\" style=\"stroke:white;stroke-width:4\"/><line x1=\"237.5\" y1=\"250.0\" x2=\"243.75\" y2=\"239.175\" stroke-linecap=\"round\" style=\"stroke:white;stroke-width:4\"/><line x1=\"243.75\" y1=\"239.175\" x2=\"250.0\" y2=\"250.0\" stroke-linecap=\"round\" style=\"stroke:white;stroke-width:4\"/><line x1=\"250.0\" y1=\"250.0\" x2=\"262.5\" y2=\"250.0\" stroke-linecap=\"round\" style=\"stroke:white;stroke-width:4\"/><line x1=\"262.5\" y1=\"250.0\" x2=\"268.75\" y2=\"239.175\" stroke-linecap=\"round\" style=\"stroke:white;stroke-width:4\"/><line x1=\"268.75\" y1=\"239.175\" x2=\"262.5\" y2=\"228.35\" stroke-linecap=\"round\" style=\"stroke:white;stroke-width:4\"/><line x1=\"262.5\" y1=\"228.35\" x2=\"275.0\" y2=\"228.35\" stroke-linecap=\"round\" style=\"stroke:white;stroke-width:4\"/><line x1=\"275.0\" y1=\"228.35\" x2=\"281.25\" y2=\"217.525\" stroke-linecap=\"round\" style=\"stroke:white;stroke-width:4\"/><line x1=\"281.25\" y1=\"217.525\" x2=\"287.5\" y2=\"228.35\" stroke-linecap=\"round\" style=\"stroke:white;stroke-width:4\"/><line x1=\"287.5\" y1=\"228.35\" x2=\"300.0\" y2=\"228.35\" stroke-linecap=\"round\" style=\"stroke:white;stroke-width:4\"/><line x1=\"300.0\" y1=\"228.35\" x2=\"293.75\" y2=\"239.175\" stroke-linecap=\"round\" style=\"stroke:white;stroke-width:4\"/><line x1=\"293.75\" y1=\"239.175\" x2=\"300.0\" y2=\"250.0\" stroke-linecap=\"round\" style=\"stroke:white;stroke-width:4\"/><line x1=\"300.0\" y1=\"250.0\" x2=\"312.5\" y2=\"250.0\" stroke-linecap=\"round\" style=\"stroke:white;stroke-width:4\"/><line x1=\"312.5\" y1=\"250.0\" x2=\"318.75\" y2=\"239.175\" stroke-linecap=\"round\" style=\"stroke:white;stroke-width:4\"/><line x1=\"318.75\" y1=\"239.175\" x2=\"325.0\" y2=\"250.0\" stroke-linecap=\"round\" style=\"stroke:white;stroke-width:4\"/><line x1=\"325.0\" y1=\"250.0\" x2=\"337.5\" y2=\"250.0\" stroke-linecap=\"round\" style=\"stroke:white;stroke-width:4\"/>\n",
              "        <g visibility=visible transform=\"rotate(90,337.5,250.0) translate(319.5, 232.0)\">\n",
              "<path style=\" stroke:none;fill-rule:evenodd;fill:white;fill-opacity:1;\" d=\"M 18.214844 0.632812 C 16.109375 1.800781 15.011719 4.074219 15.074219 7.132812 L 15.085938 7.652344 L 14.785156 7.496094 C 13.476562 6.824219 11.957031 6.671875 10.40625 7.066406 C 8.46875 7.550781 6.515625 9.15625 4.394531 11.992188 C 3.0625 13.777344 2.679688 14.636719 3.042969 15.027344 L 3.15625 15.152344 L 3.519531 15.152344 C 4.238281 15.152344 4.828125 14.886719 8.1875 13.039062 C 9.386719 12.378906 10.371094 11.839844 10.378906 11.839844 C 10.386719 11.839844 10.355469 11.929688 10.304688 12.035156 C 9.832031 13.09375 9.257812 14.820312 8.96875 16.078125 C 7.914062 20.652344 8.617188 24.53125 11.070312 27.660156 C 11.351562 28.015625 11.363281 27.914062 10.972656 28.382812 C 8.925781 30.84375 7.945312 33.28125 8.238281 35.1875 C 8.289062 35.527344 8.28125 35.523438 8.917969 35.523438 C 10.941406 35.523438 13.074219 34.207031 15.136719 31.6875 C 15.359375 31.417969 15.328125 31.425781 15.5625 31.574219 C 16.292969 32.042969 18.023438 32.964844 18.175781 32.964844 C 18.335938 32.964844 19.941406 32.210938 20.828125 31.71875 C 20.996094 31.625 21.136719 31.554688 21.136719 31.558594 C 21.203125 31.664062 21.898438 32.414062 22.222656 32.730469 C 23.835938 34.300781 25.5625 35.132812 27.582031 35.300781 C 27.90625 35.328125 27.9375 35.308594 28.007812 34.984375 C 28.382812 33.242188 27.625 30.925781 25.863281 28.425781 L 25.542969 27.96875 L 25.699219 27.785156 C 28.945312 23.960938 29.132812 18.699219 26.257812 11.96875 L 26.207031 11.84375 L 27.945312 12.703125 C 31.53125 14.476562 32.316406 14.800781 33.03125 14.800781 C 33.976562 14.800781 33.78125 13.9375 32.472656 12.292969 C 28.519531 7.355469 25.394531 5.925781 21.921875 7.472656 L 21.558594 7.636719 L 21.578125 7.542969 C 21.699219 6.992188 21.761719 5.742188 21.699219 5.164062 C 21.496094 3.296875 20.664062 1.964844 19.003906 0.855469 C 18.480469 0.503906 18.457031 0.5 18.214844 0.632812\"/>\n",
              "</g>\n",
              "      </svg>\n",
              "    "
            ]
          },
          "metadata": {}
        }
      ]
    },
    {
      "cell_type": "code",
      "source": [
        "my_c = 'f'\n",
        "ang = 60\n",
        "iterar(my_c,4, ang)"
      ],
      "metadata": {
        "colab": {
          "base_uri": "https://localhost:8080/",
          "height": 522
        },
        "id": "BBrpJkYrxPrZ",
        "outputId": "b389b62c-7913-415e-93f2-410581c9ba55"
      },
      "execution_count": null,
      "outputs": [
        {
          "output_type": "display_data",
          "data": {
            "text/plain": [
              "<IPython.core.display.HTML object>"
            ],
            "text/html": [
              "\n",
              "      <svg width=\"800\" height=\"500\">\n",
              "        <rect width=\"100%\" height=\"100%\" fill=\"black\"/>\n",
              "        <line x1=\"0\" y1=\"250\" x2=\"3.125\" y2=\"250.0\" stroke-linecap=\"round\" style=\"stroke:white;stroke-width:4\"/><line x1=\"3.125\" y1=\"250.0\" x2=\"4.688\" y2=\"247.294\" stroke-linecap=\"round\" style=\"stroke:white;stroke-width:4\"/><line x1=\"4.688\" y1=\"247.294\" x2=\"6.251\" y2=\"250.0\" stroke-linecap=\"round\" style=\"stroke:white;stroke-width:4\"/><line x1=\"6.251\" y1=\"250.0\" x2=\"9.376\" y2=\"250.0\" stroke-linecap=\"round\" style=\"stroke:white;stroke-width:4\"/><line x1=\"9.376\" y1=\"250.0\" x2=\"10.938\" y2=\"247.294\" stroke-linecap=\"round\" style=\"stroke:white;stroke-width:4\"/><line x1=\"10.938\" y1=\"247.294\" x2=\"9.375\" y2=\"244.588\" stroke-linecap=\"round\" style=\"stroke:white;stroke-width:4\"/><line x1=\"9.375\" y1=\"244.588\" x2=\"12.5\" y2=\"244.588\" stroke-linecap=\"round\" style=\"stroke:white;stroke-width:4\"/><line x1=\"12.5\" y1=\"244.588\" x2=\"14.062\" y2=\"241.882\" stroke-linecap=\"round\" style=\"stroke:white;stroke-width:4\"/><line x1=\"14.062\" y1=\"241.882\" x2=\"15.624\" y2=\"244.588\" stroke-linecap=\"round\" style=\"stroke:white;stroke-width:4\"/><line x1=\"15.624\" y1=\"244.588\" x2=\"18.749\" y2=\"244.588\" stroke-linecap=\"round\" style=\"stroke:white;stroke-width:4\"/><line x1=\"18.749\" y1=\"244.588\" x2=\"17.186\" y2=\"247.294\" stroke-linecap=\"round\" style=\"stroke:white;stroke-width:4\"/><line x1=\"17.186\" y1=\"247.294\" x2=\"18.748\" y2=\"250.0\" stroke-linecap=\"round\" style=\"stroke:white;stroke-width:4\"/><line x1=\"18.748\" y1=\"250.0\" x2=\"21.873\" y2=\"250.0\" stroke-linecap=\"round\" style=\"stroke:white;stroke-width:4\"/><line x1=\"21.873\" y1=\"250.0\" x2=\"23.436\" y2=\"247.294\" stroke-linecap=\"round\" style=\"stroke:white;stroke-width:4\"/><line x1=\"23.436\" y1=\"247.294\" x2=\"24.998\" y2=\"250.0\" stroke-linecap=\"round\" style=\"stroke:white;stroke-width:4\"/><line x1=\"24.998\" y1=\"250.0\" x2=\"28.123\" y2=\"250.0\" stroke-linecap=\"round\" style=\"stroke:white;stroke-width:4\"/><line x1=\"28.123\" y1=\"250.0\" x2=\"29.686\" y2=\"247.294\" stroke-linecap=\"round\" style=\"stroke:white;stroke-width:4\"/><line x1=\"29.686\" y1=\"247.294\" x2=\"28.123\" y2=\"244.588\" stroke-linecap=\"round\" style=\"stroke:white;stroke-width:4\"/><line x1=\"28.123\" y1=\"244.588\" x2=\"31.248\" y2=\"244.588\" stroke-linecap=\"round\" style=\"stroke:white;stroke-width:4\"/><line x1=\"31.248\" y1=\"244.588\" x2=\"32.811\" y2=\"241.882\" stroke-linecap=\"round\" style=\"stroke:white;stroke-width:4\"/><line x1=\"32.811\" y1=\"241.882\" x2=\"31.248\" y2=\"239.176\" stroke-linecap=\"round\" style=\"stroke:white;stroke-width:4\"/><line x1=\"31.248\" y1=\"239.176\" x2=\"28.123\" y2=\"239.176\" stroke-linecap=\"round\" style=\"stroke:white;stroke-width:4\"/><line x1=\"28.123\" y1=\"239.176\" x2=\"29.686\" y2=\"236.47\" stroke-linecap=\"round\" style=\"stroke:white;stroke-width:4\"/><line x1=\"29.686\" y1=\"236.47\" x2=\"28.123\" y2=\"233.764\" stroke-linecap=\"round\" style=\"stroke:white;stroke-width:4\"/><line x1=\"28.123\" y1=\"233.764\" x2=\"31.248\" y2=\"233.764\" stroke-linecap=\"round\" style=\"stroke:white;stroke-width:4\"/><line x1=\"31.248\" y1=\"233.764\" x2=\"32.811\" y2=\"231.058\" stroke-linecap=\"round\" style=\"stroke:white;stroke-width:4\"/><line x1=\"32.811\" y1=\"231.058\" x2=\"34.373\" y2=\"233.764\" stroke-linecap=\"round\" style=\"stroke:white;stroke-width:4\"/><line x1=\"34.373\" y1=\"233.764\" x2=\"37.498\" y2=\"233.764\" stroke-linecap=\"round\" style=\"stroke:white;stroke-width:4\"/><line x1=\"37.498\" y1=\"233.764\" x2=\"39.06\" y2=\"231.058\" stroke-linecap=\"round\" style=\"stroke:white;stroke-width:4\"/><line x1=\"39.06\" y1=\"231.058\" x2=\"37.498\" y2=\"228.352\" stroke-linecap=\"round\" style=\"stroke:white;stroke-width:4\"/><line x1=\"37.498\" y1=\"228.352\" x2=\"40.623\" y2=\"228.352\" stroke-linecap=\"round\" style=\"stroke:white;stroke-width:4\"/><line x1=\"40.623\" y1=\"228.352\" x2=\"42.185\" y2=\"225.646\" stroke-linecap=\"round\" style=\"stroke:white;stroke-width:4\"/><line x1=\"42.185\" y1=\"225.646\" x2=\"43.748\" y2=\"228.352\" stroke-linecap=\"round\" style=\"stroke:white;stroke-width:4\"/><line x1=\"43.748\" y1=\"228.352\" x2=\"46.873\" y2=\"228.352\" stroke-linecap=\"round\" style=\"stroke:white;stroke-width:4\"/><line x1=\"46.873\" y1=\"228.352\" x2=\"45.31\" y2=\"231.058\" stroke-linecap=\"round\" style=\"stroke:white;stroke-width:4\"/><line x1=\"45.31\" y1=\"231.058\" x2=\"46.873\" y2=\"233.764\" stroke-linecap=\"round\" style=\"stroke:white;stroke-width:4\"/><line x1=\"46.873\" y1=\"233.764\" x2=\"49.998\" y2=\"233.764\" stroke-linecap=\"round\" style=\"stroke:white;stroke-width:4\"/><line x1=\"49.998\" y1=\"233.764\" x2=\"51.56\" y2=\"231.058\" stroke-linecap=\"round\" style=\"stroke:white;stroke-width:4\"/><line x1=\"51.56\" y1=\"231.058\" x2=\"53.123\" y2=\"233.764\" stroke-linecap=\"round\" style=\"stroke:white;stroke-width:4\"/><line x1=\"53.123\" y1=\"233.764\" x2=\"56.248\" y2=\"233.764\" stroke-linecap=\"round\" style=\"stroke:white;stroke-width:4\"/><line x1=\"56.248\" y1=\"233.764\" x2=\"54.685\" y2=\"236.47\" stroke-linecap=\"round\" style=\"stroke:white;stroke-width:4\"/><line x1=\"54.685\" y1=\"236.47\" x2=\"56.248\" y2=\"239.176\" stroke-linecap=\"round\" style=\"stroke:white;stroke-width:4\"/><line x1=\"56.248\" y1=\"239.176\" x2=\"53.123\" y2=\"239.176\" stroke-linecap=\"round\" style=\"stroke:white;stroke-width:4\"/><line x1=\"53.123\" y1=\"239.176\" x2=\"51.56\" y2=\"241.882\" stroke-linecap=\"round\" style=\"stroke:white;stroke-width:4\"/><line x1=\"51.56\" y1=\"241.882\" x2=\"53.123\" y2=\"244.588\" stroke-linecap=\"round\" style=\"stroke:white;stroke-width:4\"/><line x1=\"53.123\" y1=\"244.588\" x2=\"56.248\" y2=\"244.588\" stroke-linecap=\"round\" style=\"stroke:white;stroke-width:4\"/><line x1=\"56.248\" y1=\"244.588\" x2=\"54.685\" y2=\"247.294\" stroke-linecap=\"round\" style=\"stroke:white;stroke-width:4\"/><line x1=\"54.685\" y1=\"247.294\" x2=\"56.248\" y2=\"250.0\" stroke-linecap=\"round\" style=\"stroke:white;stroke-width:4\"/><line x1=\"56.248\" y1=\"250.0\" x2=\"59.373\" y2=\"250.0\" stroke-linecap=\"round\" style=\"stroke:white;stroke-width:4\"/><line x1=\"59.373\" y1=\"250.0\" x2=\"60.935\" y2=\"247.294\" stroke-linecap=\"round\" style=\"stroke:white;stroke-width:4\"/><line x1=\"60.935\" y1=\"247.294\" x2=\"62.498\" y2=\"250.0\" stroke-linecap=\"round\" style=\"stroke:white;stroke-width:4\"/><line x1=\"62.498\" y1=\"250.0\" x2=\"65.623\" y2=\"250.0\" stroke-linecap=\"round\" style=\"stroke:white;stroke-width:4\"/><line x1=\"65.623\" y1=\"250.0\" x2=\"67.186\" y2=\"247.294\" stroke-linecap=\"round\" style=\"stroke:white;stroke-width:4\"/><line x1=\"67.186\" y1=\"247.294\" x2=\"65.624\" y2=\"244.588\" stroke-linecap=\"round\" style=\"stroke:white;stroke-width:4\"/><line x1=\"65.624\" y1=\"244.588\" x2=\"68.749\" y2=\"244.588\" stroke-linecap=\"round\" style=\"stroke:white;stroke-width:4\"/><line x1=\"68.749\" y1=\"244.588\" x2=\"70.311\" y2=\"241.882\" stroke-linecap=\"round\" style=\"stroke:white;stroke-width:4\"/><line x1=\"70.311\" y1=\"241.882\" x2=\"71.874\" y2=\"244.588\" stroke-linecap=\"round\" style=\"stroke:white;stroke-width:4\"/><line x1=\"71.874\" y1=\"244.588\" x2=\"74.999\" y2=\"244.588\" stroke-linecap=\"round\" style=\"stroke:white;stroke-width:4\"/><line x1=\"74.999\" y1=\"244.588\" x2=\"73.436\" y2=\"247.294\" stroke-linecap=\"round\" style=\"stroke:white;stroke-width:4\"/><line x1=\"73.436\" y1=\"247.294\" x2=\"74.999\" y2=\"250.0\" stroke-linecap=\"round\" style=\"stroke:white;stroke-width:4\"/><line x1=\"74.999\" y1=\"250.0\" x2=\"78.124\" y2=\"250.0\" stroke-linecap=\"round\" style=\"stroke:white;stroke-width:4\"/><line x1=\"78.124\" y1=\"250.0\" x2=\"79.686\" y2=\"247.294\" stroke-linecap=\"round\" style=\"stroke:white;stroke-width:4\"/><line x1=\"79.686\" y1=\"247.294\" x2=\"81.249\" y2=\"250.0\" stroke-linecap=\"round\" style=\"stroke:white;stroke-width:4\"/><line x1=\"81.249\" y1=\"250.0\" x2=\"84.374\" y2=\"250.0\" stroke-linecap=\"round\" style=\"stroke:white;stroke-width:4\"/><line x1=\"84.374\" y1=\"250.0\" x2=\"85.936\" y2=\"247.294\" stroke-linecap=\"round\" style=\"stroke:white;stroke-width:4\"/><line x1=\"85.936\" y1=\"247.294\" x2=\"84.374\" y2=\"244.588\" stroke-linecap=\"round\" style=\"stroke:white;stroke-width:4\"/><line x1=\"84.374\" y1=\"244.588\" x2=\"87.499\" y2=\"244.588\" stroke-linecap=\"round\" style=\"stroke:white;stroke-width:4\"/><line x1=\"87.499\" y1=\"244.588\" x2=\"89.061\" y2=\"241.882\" stroke-linecap=\"round\" style=\"stroke:white;stroke-width:4\"/><line x1=\"89.061\" y1=\"241.882\" x2=\"87.499\" y2=\"239.176\" stroke-linecap=\"round\" style=\"stroke:white;stroke-width:4\"/><line x1=\"87.499\" y1=\"239.176\" x2=\"84.374\" y2=\"239.176\" stroke-linecap=\"round\" style=\"stroke:white;stroke-width:4\"/><line x1=\"84.374\" y1=\"239.176\" x2=\"85.936\" y2=\"236.47\" stroke-linecap=\"round\" style=\"stroke:white;stroke-width:4\"/><line x1=\"85.936\" y1=\"236.47\" x2=\"84.374\" y2=\"233.764\" stroke-linecap=\"round\" style=\"stroke:white;stroke-width:4\"/><line x1=\"84.374\" y1=\"233.764\" x2=\"87.499\" y2=\"233.764\" stroke-linecap=\"round\" style=\"stroke:white;stroke-width:4\"/><line x1=\"87.499\" y1=\"233.764\" x2=\"89.061\" y2=\"231.058\" stroke-linecap=\"round\" style=\"stroke:white;stroke-width:4\"/><line x1=\"89.061\" y1=\"231.058\" x2=\"90.624\" y2=\"233.764\" stroke-linecap=\"round\" style=\"stroke:white;stroke-width:4\"/><line x1=\"90.624\" y1=\"233.764\" x2=\"93.749\" y2=\"233.764\" stroke-linecap=\"round\" style=\"stroke:white;stroke-width:4\"/><line x1=\"93.749\" y1=\"233.764\" x2=\"95.311\" y2=\"231.058\" stroke-linecap=\"round\" style=\"stroke:white;stroke-width:4\"/><line x1=\"95.311\" y1=\"231.058\" x2=\"93.749\" y2=\"228.352\" stroke-linecap=\"round\" style=\"stroke:white;stroke-width:4\"/><line x1=\"93.749\" y1=\"228.352\" x2=\"96.874\" y2=\"228.352\" stroke-linecap=\"round\" style=\"stroke:white;stroke-width:4\"/><line x1=\"96.874\" y1=\"228.352\" x2=\"98.436\" y2=\"225.646\" stroke-linecap=\"round\" style=\"stroke:white;stroke-width:4\"/><line x1=\"98.436\" y1=\"225.646\" x2=\"96.874\" y2=\"222.94\" stroke-linecap=\"round\" style=\"stroke:white;stroke-width:4\"/><line x1=\"96.874\" y1=\"222.94\" x2=\"93.749\" y2=\"222.94\" stroke-linecap=\"round\" style=\"stroke:white;stroke-width:4\"/><line x1=\"93.749\" y1=\"222.94\" x2=\"95.311\" y2=\"220.234\" stroke-linecap=\"round\" style=\"stroke:white;stroke-width:4\"/><line x1=\"95.311\" y1=\"220.234\" x2=\"93.749\" y2=\"217.528\" stroke-linecap=\"round\" style=\"stroke:white;stroke-width:4\"/><line x1=\"93.749\" y1=\"217.528\" x2=\"90.624\" y2=\"217.528\" stroke-linecap=\"round\" style=\"stroke:white;stroke-width:4\"/><line x1=\"90.624\" y1=\"217.528\" x2=\"89.061\" y2=\"220.234\" stroke-linecap=\"round\" style=\"stroke:white;stroke-width:4\"/><line x1=\"89.061\" y1=\"220.234\" x2=\"87.499\" y2=\"217.528\" stroke-linecap=\"round\" style=\"stroke:white;stroke-width:4\"/><line x1=\"87.499\" y1=\"217.528\" x2=\"84.374\" y2=\"217.528\" stroke-linecap=\"round\" style=\"stroke:white;stroke-width:4\"/><line x1=\"84.374\" y1=\"217.528\" x2=\"85.936\" y2=\"214.822\" stroke-linecap=\"round\" style=\"stroke:white;stroke-width:4\"/><line x1=\"85.936\" y1=\"214.822\" x2=\"84.374\" y2=\"212.116\" stroke-linecap=\"round\" style=\"stroke:white;stroke-width:4\"/><line x1=\"84.374\" y1=\"212.116\" x2=\"87.499\" y2=\"212.116\" stroke-linecap=\"round\" style=\"stroke:white;stroke-width:4\"/><line x1=\"87.499\" y1=\"212.116\" x2=\"89.061\" y2=\"209.41\" stroke-linecap=\"round\" style=\"stroke:white;stroke-width:4\"/><line x1=\"89.061\" y1=\"209.41\" x2=\"87.499\" y2=\"206.704\" stroke-linecap=\"round\" style=\"stroke:white;stroke-width:4\"/><line x1=\"87.499\" y1=\"206.704\" x2=\"84.374\" y2=\"206.704\" stroke-linecap=\"round\" style=\"stroke:white;stroke-width:4\"/><line x1=\"84.374\" y1=\"206.704\" x2=\"85.936\" y2=\"203.998\" stroke-linecap=\"round\" style=\"stroke:white;stroke-width:4\"/><line x1=\"85.936\" y1=\"203.998\" x2=\"84.374\" y2=\"201.292\" stroke-linecap=\"round\" style=\"stroke:white;stroke-width:4\"/><line x1=\"84.374\" y1=\"201.292\" x2=\"87.499\" y2=\"201.292\" stroke-linecap=\"round\" style=\"stroke:white;stroke-width:4\"/><line x1=\"87.499\" y1=\"201.292\" x2=\"89.061\" y2=\"198.586\" stroke-linecap=\"round\" style=\"stroke:white;stroke-width:4\"/><line x1=\"89.061\" y1=\"198.586\" x2=\"90.624\" y2=\"201.292\" stroke-linecap=\"round\" style=\"stroke:white;stroke-width:4\"/><line x1=\"90.624\" y1=\"201.292\" x2=\"93.749\" y2=\"201.292\" stroke-linecap=\"round\" style=\"stroke:white;stroke-width:4\"/><line x1=\"93.749\" y1=\"201.292\" x2=\"95.311\" y2=\"198.586\" stroke-linecap=\"round\" style=\"stroke:white;stroke-width:4\"/><line x1=\"95.311\" y1=\"198.586\" x2=\"93.749\" y2=\"195.88\" stroke-linecap=\"round\" style=\"stroke:white;stroke-width:4\"/><line x1=\"93.749\" y1=\"195.88\" x2=\"96.874\" y2=\"195.88\" stroke-linecap=\"round\" style=\"stroke:white;stroke-width:4\"/><line x1=\"96.874\" y1=\"195.88\" x2=\"98.436\" y2=\"193.174\" stroke-linecap=\"round\" style=\"stroke:white;stroke-width:4\"/><line x1=\"98.436\" y1=\"193.174\" x2=\"99.999\" y2=\"195.88\" stroke-linecap=\"round\" style=\"stroke:white;stroke-width:4\"/><line x1=\"99.999\" y1=\"195.88\" x2=\"103.124\" y2=\"195.88\" stroke-linecap=\"round\" style=\"stroke:white;stroke-width:4\"/><line x1=\"103.124\" y1=\"195.88\" x2=\"101.561\" y2=\"198.586\" stroke-linecap=\"round\" style=\"stroke:white;stroke-width:4\"/><line x1=\"101.561\" y1=\"198.586\" x2=\"103.124\" y2=\"201.292\" stroke-linecap=\"round\" style=\"stroke:white;stroke-width:4\"/><line x1=\"103.124\" y1=\"201.292\" x2=\"106.249\" y2=\"201.292\" stroke-linecap=\"round\" style=\"stroke:white;stroke-width:4\"/><line x1=\"106.249\" y1=\"201.292\" x2=\"107.811\" y2=\"198.586\" stroke-linecap=\"round\" style=\"stroke:white;stroke-width:4\"/><line x1=\"107.811\" y1=\"198.586\" x2=\"109.374\" y2=\"201.292\" stroke-linecap=\"round\" style=\"stroke:white;stroke-width:4\"/><line x1=\"109.374\" y1=\"201.292\" x2=\"112.499\" y2=\"201.292\" stroke-linecap=\"round\" style=\"stroke:white;stroke-width:4\"/><line x1=\"112.499\" y1=\"201.292\" x2=\"114.061\" y2=\"198.586\" stroke-linecap=\"round\" style=\"stroke:white;stroke-width:4\"/><line x1=\"114.061\" y1=\"198.586\" x2=\"112.499\" y2=\"195.88\" stroke-linecap=\"round\" style=\"stroke:white;stroke-width:4\"/><line x1=\"112.499\" y1=\"195.88\" x2=\"115.624\" y2=\"195.88\" stroke-linecap=\"round\" style=\"stroke:white;stroke-width:4\"/><line x1=\"115.624\" y1=\"195.88\" x2=\"117.186\" y2=\"193.174\" stroke-linecap=\"round\" style=\"stroke:white;stroke-width:4\"/><line x1=\"117.186\" y1=\"193.174\" x2=\"115.624\" y2=\"190.468\" stroke-linecap=\"round\" style=\"stroke:white;stroke-width:4\"/><line x1=\"115.624\" y1=\"190.468\" x2=\"112.499\" y2=\"190.468\" stroke-linecap=\"round\" style=\"stroke:white;stroke-width:4\"/><line x1=\"112.499\" y1=\"190.468\" x2=\"114.061\" y2=\"187.762\" stroke-linecap=\"round\" style=\"stroke:white;stroke-width:4\"/><line x1=\"114.061\" y1=\"187.762\" x2=\"112.499\" y2=\"185.056\" stroke-linecap=\"round\" style=\"stroke:white;stroke-width:4\"/><line x1=\"112.499\" y1=\"185.056\" x2=\"115.624\" y2=\"185.056\" stroke-linecap=\"round\" style=\"stroke:white;stroke-width:4\"/><line x1=\"115.624\" y1=\"185.056\" x2=\"117.186\" y2=\"182.35\" stroke-linecap=\"round\" style=\"stroke:white;stroke-width:4\"/><line x1=\"117.186\" y1=\"182.35\" x2=\"118.749\" y2=\"185.056\" stroke-linecap=\"round\" style=\"stroke:white;stroke-width:4\"/><line x1=\"118.749\" y1=\"185.056\" x2=\"121.874\" y2=\"185.056\" stroke-linecap=\"round\" style=\"stroke:white;stroke-width:4\"/><line x1=\"121.874\" y1=\"185.056\" x2=\"123.436\" y2=\"182.35\" stroke-linecap=\"round\" style=\"stroke:white;stroke-width:4\"/><line x1=\"123.436\" y1=\"182.35\" x2=\"121.874\" y2=\"179.644\" stroke-linecap=\"round\" style=\"stroke:white;stroke-width:4\"/><line x1=\"121.874\" y1=\"179.644\" x2=\"124.999\" y2=\"179.644\" stroke-linecap=\"round\" style=\"stroke:white;stroke-width:4\"/><line x1=\"124.999\" y1=\"179.644\" x2=\"126.561\" y2=\"176.938\" stroke-linecap=\"round\" style=\"stroke:white;stroke-width:4\"/><line x1=\"126.561\" y1=\"176.938\" x2=\"128.124\" y2=\"179.644\" stroke-linecap=\"round\" style=\"stroke:white;stroke-width:4\"/><line x1=\"128.124\" y1=\"179.644\" x2=\"131.249\" y2=\"179.644\" stroke-linecap=\"round\" style=\"stroke:white;stroke-width:4\"/><line x1=\"131.249\" y1=\"179.644\" x2=\"129.686\" y2=\"182.35\" stroke-linecap=\"round\" style=\"stroke:white;stroke-width:4\"/><line x1=\"129.686\" y1=\"182.35\" x2=\"131.249\" y2=\"185.056\" stroke-linecap=\"round\" style=\"stroke:white;stroke-width:4\"/><line x1=\"131.249\" y1=\"185.056\" x2=\"134.374\" y2=\"185.056\" stroke-linecap=\"round\" style=\"stroke:white;stroke-width:4\"/><line x1=\"134.374\" y1=\"185.056\" x2=\"135.936\" y2=\"182.35\" stroke-linecap=\"round\" style=\"stroke:white;stroke-width:4\"/><line x1=\"135.936\" y1=\"182.35\" x2=\"137.499\" y2=\"185.056\" stroke-linecap=\"round\" style=\"stroke:white;stroke-width:4\"/><line x1=\"137.499\" y1=\"185.056\" x2=\"140.624\" y2=\"185.056\" stroke-linecap=\"round\" style=\"stroke:white;stroke-width:4\"/><line x1=\"140.624\" y1=\"185.056\" x2=\"139.061\" y2=\"187.762\" stroke-linecap=\"round\" style=\"stroke:white;stroke-width:4\"/><line x1=\"139.061\" y1=\"187.762\" x2=\"140.624\" y2=\"190.468\" stroke-linecap=\"round\" style=\"stroke:white;stroke-width:4\"/><line x1=\"140.624\" y1=\"190.468\" x2=\"137.499\" y2=\"190.468\" stroke-linecap=\"round\" style=\"stroke:white;stroke-width:4\"/><line x1=\"137.499\" y1=\"190.468\" x2=\"135.936\" y2=\"193.174\" stroke-linecap=\"round\" style=\"stroke:white;stroke-width:4\"/><line x1=\"135.936\" y1=\"193.174\" x2=\"137.499\" y2=\"195.88\" stroke-linecap=\"round\" style=\"stroke:white;stroke-width:4\"/><line x1=\"137.499\" y1=\"195.88\" x2=\"140.624\" y2=\"195.88\" stroke-linecap=\"round\" style=\"stroke:white;stroke-width:4\"/><line x1=\"140.624\" y1=\"195.88\" x2=\"139.061\" y2=\"198.586\" stroke-linecap=\"round\" style=\"stroke:white;stroke-width:4\"/><line x1=\"139.061\" y1=\"198.586\" x2=\"140.624\" y2=\"201.292\" stroke-linecap=\"round\" style=\"stroke:white;stroke-width:4\"/><line x1=\"140.624\" y1=\"201.292\" x2=\"143.749\" y2=\"201.292\" stroke-linecap=\"round\" style=\"stroke:white;stroke-width:4\"/><line x1=\"143.749\" y1=\"201.292\" x2=\"145.311\" y2=\"198.586\" stroke-linecap=\"round\" style=\"stroke:white;stroke-width:4\"/><line x1=\"145.311\" y1=\"198.586\" x2=\"146.874\" y2=\"201.292\" stroke-linecap=\"round\" style=\"stroke:white;stroke-width:4\"/><line x1=\"146.874\" y1=\"201.292\" x2=\"149.999\" y2=\"201.292\" stroke-linecap=\"round\" style=\"stroke:white;stroke-width:4\"/><line x1=\"149.999\" y1=\"201.292\" x2=\"151.561\" y2=\"198.586\" stroke-linecap=\"round\" style=\"stroke:white;stroke-width:4\"/><line x1=\"151.561\" y1=\"198.586\" x2=\"149.999\" y2=\"195.88\" stroke-linecap=\"round\" style=\"stroke:white;stroke-width:4\"/><line x1=\"149.999\" y1=\"195.88\" x2=\"153.124\" y2=\"195.88\" stroke-linecap=\"round\" style=\"stroke:white;stroke-width:4\"/><line x1=\"153.124\" y1=\"195.88\" x2=\"154.686\" y2=\"193.174\" stroke-linecap=\"round\" style=\"stroke:white;stroke-width:4\"/><line x1=\"154.686\" y1=\"193.174\" x2=\"156.249\" y2=\"195.88\" stroke-linecap=\"round\" style=\"stroke:white;stroke-width:4\"/><line x1=\"156.249\" y1=\"195.88\" x2=\"159.374\" y2=\"195.88\" stroke-linecap=\"round\" style=\"stroke:white;stroke-width:4\"/><line x1=\"159.374\" y1=\"195.88\" x2=\"157.811\" y2=\"198.586\" stroke-linecap=\"round\" style=\"stroke:white;stroke-width:4\"/><line x1=\"157.811\" y1=\"198.586\" x2=\"159.374\" y2=\"201.292\" stroke-linecap=\"round\" style=\"stroke:white;stroke-width:4\"/><line x1=\"159.374\" y1=\"201.292\" x2=\"162.499\" y2=\"201.292\" stroke-linecap=\"round\" style=\"stroke:white;stroke-width:4\"/><line x1=\"162.499\" y1=\"201.292\" x2=\"164.061\" y2=\"198.586\" stroke-linecap=\"round\" style=\"stroke:white;stroke-width:4\"/><line x1=\"164.061\" y1=\"198.586\" x2=\"165.624\" y2=\"201.292\" stroke-linecap=\"round\" style=\"stroke:white;stroke-width:4\"/><line x1=\"165.624\" y1=\"201.292\" x2=\"168.749\" y2=\"201.292\" stroke-linecap=\"round\" style=\"stroke:white;stroke-width:4\"/><line x1=\"168.749\" y1=\"201.292\" x2=\"167.186\" y2=\"203.998\" stroke-linecap=\"round\" style=\"stroke:white;stroke-width:4\"/><line x1=\"167.186\" y1=\"203.998\" x2=\"168.749\" y2=\"206.704\" stroke-linecap=\"round\" style=\"stroke:white;stroke-width:4\"/><line x1=\"168.749\" y1=\"206.704\" x2=\"165.624\" y2=\"206.704\" stroke-linecap=\"round\" style=\"stroke:white;stroke-width:4\"/><line x1=\"165.624\" y1=\"206.704\" x2=\"164.061\" y2=\"209.41\" stroke-linecap=\"round\" style=\"stroke:white;stroke-width:4\"/><line x1=\"164.061\" y1=\"209.41\" x2=\"165.624\" y2=\"212.116\" stroke-linecap=\"round\" style=\"stroke:white;stroke-width:4\"/><line x1=\"165.624\" y1=\"212.116\" x2=\"168.749\" y2=\"212.116\" stroke-linecap=\"round\" style=\"stroke:white;stroke-width:4\"/><line x1=\"168.749\" y1=\"212.116\" x2=\"167.186\" y2=\"214.822\" stroke-linecap=\"round\" style=\"stroke:white;stroke-width:4\"/><line x1=\"167.186\" y1=\"214.822\" x2=\"168.749\" y2=\"217.528\" stroke-linecap=\"round\" style=\"stroke:white;stroke-width:4\"/><line x1=\"168.749\" y1=\"217.528\" x2=\"165.624\" y2=\"217.528\" stroke-linecap=\"round\" style=\"stroke:white;stroke-width:4\"/><line x1=\"165.624\" y1=\"217.528\" x2=\"164.061\" y2=\"220.234\" stroke-linecap=\"round\" style=\"stroke:white;stroke-width:4\"/><line x1=\"164.061\" y1=\"220.234\" x2=\"162.499\" y2=\"217.528\" stroke-linecap=\"round\" style=\"stroke:white;stroke-width:4\"/><line x1=\"162.499\" y1=\"217.528\" x2=\"159.374\" y2=\"217.528\" stroke-linecap=\"round\" style=\"stroke:white;stroke-width:4\"/><line x1=\"159.374\" y1=\"217.528\" x2=\"157.811\" y2=\"220.234\" stroke-linecap=\"round\" style=\"stroke:white;stroke-width:4\"/><line x1=\"157.811\" y1=\"220.234\" x2=\"159.374\" y2=\"222.94\" stroke-linecap=\"round\" style=\"stroke:white;stroke-width:4\"/><line x1=\"159.374\" y1=\"222.94\" x2=\"156.249\" y2=\"222.94\" stroke-linecap=\"round\" style=\"stroke:white;stroke-width:4\"/><line x1=\"156.249\" y1=\"222.94\" x2=\"154.686\" y2=\"225.646\" stroke-linecap=\"round\" style=\"stroke:white;stroke-width:4\"/><line x1=\"154.686\" y1=\"225.646\" x2=\"156.249\" y2=\"228.352\" stroke-linecap=\"round\" style=\"stroke:white;stroke-width:4\"/><line x1=\"156.249\" y1=\"228.352\" x2=\"159.374\" y2=\"228.352\" stroke-linecap=\"round\" style=\"stroke:white;stroke-width:4\"/><line x1=\"159.374\" y1=\"228.352\" x2=\"157.811\" y2=\"231.058\" stroke-linecap=\"round\" style=\"stroke:white;stroke-width:4\"/><line x1=\"157.811\" y1=\"231.058\" x2=\"159.374\" y2=\"233.764\" stroke-linecap=\"round\" style=\"stroke:white;stroke-width:4\"/><line x1=\"159.374\" y1=\"233.764\" x2=\"162.499\" y2=\"233.764\" stroke-linecap=\"round\" style=\"stroke:white;stroke-width:4\"/><line x1=\"162.499\" y1=\"233.764\" x2=\"164.061\" y2=\"231.058\" stroke-linecap=\"round\" style=\"stroke:white;stroke-width:4\"/><line x1=\"164.061\" y1=\"231.058\" x2=\"165.624\" y2=\"233.764\" stroke-linecap=\"round\" style=\"stroke:white;stroke-width:4\"/><line x1=\"165.624\" y1=\"233.764\" x2=\"168.749\" y2=\"233.764\" stroke-linecap=\"round\" style=\"stroke:white;stroke-width:4\"/><line x1=\"168.749\" y1=\"233.764\" x2=\"167.186\" y2=\"236.47\" stroke-linecap=\"round\" style=\"stroke:white;stroke-width:4\"/><line x1=\"167.186\" y1=\"236.47\" x2=\"168.749\" y2=\"239.176\" stroke-linecap=\"round\" style=\"stroke:white;stroke-width:4\"/><line x1=\"168.749\" y1=\"239.176\" x2=\"165.624\" y2=\"239.176\" stroke-linecap=\"round\" style=\"stroke:white;stroke-width:4\"/><line x1=\"165.624\" y1=\"239.176\" x2=\"164.061\" y2=\"241.882\" stroke-linecap=\"round\" style=\"stroke:white;stroke-width:4\"/><line x1=\"164.061\" y1=\"241.882\" x2=\"165.624\" y2=\"244.588\" stroke-linecap=\"round\" style=\"stroke:white;stroke-width:4\"/><line x1=\"165.624\" y1=\"244.588\" x2=\"168.749\" y2=\"244.588\" stroke-linecap=\"round\" style=\"stroke:white;stroke-width:4\"/><line x1=\"168.749\" y1=\"244.588\" x2=\"167.186\" y2=\"247.294\" stroke-linecap=\"round\" style=\"stroke:white;stroke-width:4\"/><line x1=\"167.186\" y1=\"247.294\" x2=\"168.749\" y2=\"250.0\" stroke-linecap=\"round\" style=\"stroke:white;stroke-width:4\"/><line x1=\"168.749\" y1=\"250.0\" x2=\"171.874\" y2=\"250.0\" stroke-linecap=\"round\" style=\"stroke:white;stroke-width:4\"/><line x1=\"171.874\" y1=\"250.0\" x2=\"173.436\" y2=\"247.294\" stroke-linecap=\"round\" style=\"stroke:white;stroke-width:4\"/><line x1=\"173.436\" y1=\"247.294\" x2=\"174.999\" y2=\"250.0\" stroke-linecap=\"round\" style=\"stroke:white;stroke-width:4\"/><line x1=\"174.999\" y1=\"250.0\" x2=\"178.124\" y2=\"250.0\" stroke-linecap=\"round\" style=\"stroke:white;stroke-width:4\"/><line x1=\"178.124\" y1=\"250.0\" x2=\"179.686\" y2=\"247.294\" stroke-linecap=\"round\" style=\"stroke:white;stroke-width:4\"/><line x1=\"179.686\" y1=\"247.294\" x2=\"178.124\" y2=\"244.588\" stroke-linecap=\"round\" style=\"stroke:white;stroke-width:4\"/><line x1=\"178.124\" y1=\"244.588\" x2=\"181.249\" y2=\"244.588\" stroke-linecap=\"round\" style=\"stroke:white;stroke-width:4\"/><line x1=\"181.249\" y1=\"244.588\" x2=\"182.811\" y2=\"241.882\" stroke-linecap=\"round\" style=\"stroke:white;stroke-width:4\"/><line x1=\"182.811\" y1=\"241.882\" x2=\"184.374\" y2=\"244.588\" stroke-linecap=\"round\" style=\"stroke:white;stroke-width:4\"/><line x1=\"184.374\" y1=\"244.588\" x2=\"187.499\" y2=\"244.588\" stroke-linecap=\"round\" style=\"stroke:white;stroke-width:4\"/><line x1=\"187.499\" y1=\"244.588\" x2=\"185.936\" y2=\"247.294\" stroke-linecap=\"round\" style=\"stroke:white;stroke-width:4\"/><line x1=\"185.936\" y1=\"247.294\" x2=\"187.499\" y2=\"250.0\" stroke-linecap=\"round\" style=\"stroke:white;stroke-width:4\"/><line x1=\"187.499\" y1=\"250.0\" x2=\"190.624\" y2=\"250.0\" stroke-linecap=\"round\" style=\"stroke:white;stroke-width:4\"/><line x1=\"190.624\" y1=\"250.0\" x2=\"192.186\" y2=\"247.294\" stroke-linecap=\"round\" style=\"stroke:white;stroke-width:4\"/><line x1=\"192.186\" y1=\"247.294\" x2=\"193.749\" y2=\"250.0\" stroke-linecap=\"round\" style=\"stroke:white;stroke-width:4\"/><line x1=\"193.749\" y1=\"250.0\" x2=\"196.874\" y2=\"250.0\" stroke-linecap=\"round\" style=\"stroke:white;stroke-width:4\"/><line x1=\"196.874\" y1=\"250.0\" x2=\"198.436\" y2=\"247.294\" stroke-linecap=\"round\" style=\"stroke:white;stroke-width:4\"/><line x1=\"198.436\" y1=\"247.294\" x2=\"196.874\" y2=\"244.588\" stroke-linecap=\"round\" style=\"stroke:white;stroke-width:4\"/><line x1=\"196.874\" y1=\"244.588\" x2=\"199.999\" y2=\"244.588\" stroke-linecap=\"round\" style=\"stroke:white;stroke-width:4\"/><line x1=\"199.999\" y1=\"244.588\" x2=\"201.561\" y2=\"241.882\" stroke-linecap=\"round\" style=\"stroke:white;stroke-width:4\"/><line x1=\"201.561\" y1=\"241.882\" x2=\"199.999\" y2=\"239.176\" stroke-linecap=\"round\" style=\"stroke:white;stroke-width:4\"/><line x1=\"199.999\" y1=\"239.176\" x2=\"196.874\" y2=\"239.176\" stroke-linecap=\"round\" style=\"stroke:white;stroke-width:4\"/><line x1=\"196.874\" y1=\"239.176\" x2=\"198.436\" y2=\"236.47\" stroke-linecap=\"round\" style=\"stroke:white;stroke-width:4\"/><line x1=\"198.436\" y1=\"236.47\" x2=\"196.874\" y2=\"233.764\" stroke-linecap=\"round\" style=\"stroke:white;stroke-width:4\"/><line x1=\"196.874\" y1=\"233.764\" x2=\"199.999\" y2=\"233.764\" stroke-linecap=\"round\" style=\"stroke:white;stroke-width:4\"/><line x1=\"199.999\" y1=\"233.764\" x2=\"201.561\" y2=\"231.058\" stroke-linecap=\"round\" style=\"stroke:white;stroke-width:4\"/><line x1=\"201.561\" y1=\"231.058\" x2=\"203.124\" y2=\"233.764\" stroke-linecap=\"round\" style=\"stroke:white;stroke-width:4\"/><line x1=\"203.124\" y1=\"233.764\" x2=\"206.249\" y2=\"233.764\" stroke-linecap=\"round\" style=\"stroke:white;stroke-width:4\"/><line x1=\"206.249\" y1=\"233.764\" x2=\"207.811\" y2=\"231.058\" stroke-linecap=\"round\" style=\"stroke:white;stroke-width:4\"/><line x1=\"207.811\" y1=\"231.058\" x2=\"206.249\" y2=\"228.352\" stroke-linecap=\"round\" style=\"stroke:white;stroke-width:4\"/><line x1=\"206.249\" y1=\"228.352\" x2=\"209.374\" y2=\"228.352\" stroke-linecap=\"round\" style=\"stroke:white;stroke-width:4\"/><line x1=\"209.374\" y1=\"228.352\" x2=\"210.936\" y2=\"225.646\" stroke-linecap=\"round\" style=\"stroke:white;stroke-width:4\"/><line x1=\"210.936\" y1=\"225.646\" x2=\"212.499\" y2=\"228.352\" stroke-linecap=\"round\" style=\"stroke:white;stroke-width:4\"/><line x1=\"212.499\" y1=\"228.352\" x2=\"215.624\" y2=\"228.352\" stroke-linecap=\"round\" style=\"stroke:white;stroke-width:4\"/><line x1=\"215.624\" y1=\"228.352\" x2=\"214.061\" y2=\"231.058\" stroke-linecap=\"round\" style=\"stroke:white;stroke-width:4\"/><line x1=\"214.061\" y1=\"231.058\" x2=\"215.624\" y2=\"233.764\" stroke-linecap=\"round\" style=\"stroke:white;stroke-width:4\"/><line x1=\"215.624\" y1=\"233.764\" x2=\"218.749\" y2=\"233.764\" stroke-linecap=\"round\" style=\"stroke:white;stroke-width:4\"/><line x1=\"218.749\" y1=\"233.764\" x2=\"220.311\" y2=\"231.058\" stroke-linecap=\"round\" style=\"stroke:white;stroke-width:4\"/><line x1=\"220.311\" y1=\"231.058\" x2=\"221.874\" y2=\"233.764\" stroke-linecap=\"round\" style=\"stroke:white;stroke-width:4\"/><line x1=\"221.874\" y1=\"233.764\" x2=\"224.999\" y2=\"233.764\" stroke-linecap=\"round\" style=\"stroke:white;stroke-width:4\"/><line x1=\"224.999\" y1=\"233.764\" x2=\"223.436\" y2=\"236.47\" stroke-linecap=\"round\" style=\"stroke:white;stroke-width:4\"/><line x1=\"223.436\" y1=\"236.47\" x2=\"224.999\" y2=\"239.176\" stroke-linecap=\"round\" style=\"stroke:white;stroke-width:4\"/><line x1=\"224.999\" y1=\"239.176\" x2=\"221.874\" y2=\"239.176\" stroke-linecap=\"round\" style=\"stroke:white;stroke-width:4\"/><line x1=\"221.874\" y1=\"239.176\" x2=\"220.311\" y2=\"241.882\" stroke-linecap=\"round\" style=\"stroke:white;stroke-width:4\"/><line x1=\"220.311\" y1=\"241.882\" x2=\"221.874\" y2=\"244.588\" stroke-linecap=\"round\" style=\"stroke:white;stroke-width:4\"/><line x1=\"221.874\" y1=\"244.588\" x2=\"224.999\" y2=\"244.588\" stroke-linecap=\"round\" style=\"stroke:white;stroke-width:4\"/><line x1=\"224.999\" y1=\"244.588\" x2=\"223.436\" y2=\"247.294\" stroke-linecap=\"round\" style=\"stroke:white;stroke-width:4\"/><line x1=\"223.436\" y1=\"247.294\" x2=\"224.999\" y2=\"250.0\" stroke-linecap=\"round\" style=\"stroke:white;stroke-width:4\"/><line x1=\"224.999\" y1=\"250.0\" x2=\"228.124\" y2=\"250.0\" stroke-linecap=\"round\" style=\"stroke:white;stroke-width:4\"/><line x1=\"228.124\" y1=\"250.0\" x2=\"229.686\" y2=\"247.294\" stroke-linecap=\"round\" style=\"stroke:white;stroke-width:4\"/><line x1=\"229.686\" y1=\"247.294\" x2=\"231.249\" y2=\"250.0\" stroke-linecap=\"round\" style=\"stroke:white;stroke-width:4\"/><line x1=\"231.249\" y1=\"250.0\" x2=\"234.374\" y2=\"250.0\" stroke-linecap=\"round\" style=\"stroke:white;stroke-width:4\"/><line x1=\"234.374\" y1=\"250.0\" x2=\"235.936\" y2=\"247.294\" stroke-linecap=\"round\" style=\"stroke:white;stroke-width:4\"/><line x1=\"235.936\" y1=\"247.294\" x2=\"234.374\" y2=\"244.588\" stroke-linecap=\"round\" style=\"stroke:white;stroke-width:4\"/><line x1=\"234.374\" y1=\"244.588\" x2=\"237.499\" y2=\"244.588\" stroke-linecap=\"round\" style=\"stroke:white;stroke-width:4\"/><line x1=\"237.499\" y1=\"244.588\" x2=\"239.061\" y2=\"241.882\" stroke-linecap=\"round\" style=\"stroke:white;stroke-width:4\"/><line x1=\"239.061\" y1=\"241.882\" x2=\"240.624\" y2=\"244.588\" stroke-linecap=\"round\" style=\"stroke:white;stroke-width:4\"/><line x1=\"240.624\" y1=\"244.588\" x2=\"243.749\" y2=\"244.588\" stroke-linecap=\"round\" style=\"stroke:white;stroke-width:4\"/><line x1=\"243.749\" y1=\"244.588\" x2=\"242.186\" y2=\"247.294\" stroke-linecap=\"round\" style=\"stroke:white;stroke-width:4\"/><line x1=\"242.186\" y1=\"247.294\" x2=\"243.749\" y2=\"250.0\" stroke-linecap=\"round\" style=\"stroke:white;stroke-width:4\"/><line x1=\"243.749\" y1=\"250.0\" x2=\"246.874\" y2=\"250.0\" stroke-linecap=\"round\" style=\"stroke:white;stroke-width:4\"/><line x1=\"246.874\" y1=\"250.0\" x2=\"248.436\" y2=\"247.294\" stroke-linecap=\"round\" style=\"stroke:white;stroke-width:4\"/><line x1=\"248.436\" y1=\"247.294\" x2=\"249.999\" y2=\"250.0\" stroke-linecap=\"round\" style=\"stroke:white;stroke-width:4\"/><line x1=\"249.999\" y1=\"250.0\" x2=\"253.124\" y2=\"250.0\" stroke-linecap=\"round\" style=\"stroke:white;stroke-width:4\"/>\n",
              "        <g visibility=visible transform=\"rotate(90,253.124,250.0) translate(235.124, 232.0)\">\n",
              "<path style=\" stroke:none;fill-rule:evenodd;fill:white;fill-opacity:1;\" d=\"M 18.214844 0.632812 C 16.109375 1.800781 15.011719 4.074219 15.074219 7.132812 L 15.085938 7.652344 L 14.785156 7.496094 C 13.476562 6.824219 11.957031 6.671875 10.40625 7.066406 C 8.46875 7.550781 6.515625 9.15625 4.394531 11.992188 C 3.0625 13.777344 2.679688 14.636719 3.042969 15.027344 L 3.15625 15.152344 L 3.519531 15.152344 C 4.238281 15.152344 4.828125 14.886719 8.1875 13.039062 C 9.386719 12.378906 10.371094 11.839844 10.378906 11.839844 C 10.386719 11.839844 10.355469 11.929688 10.304688 12.035156 C 9.832031 13.09375 9.257812 14.820312 8.96875 16.078125 C 7.914062 20.652344 8.617188 24.53125 11.070312 27.660156 C 11.351562 28.015625 11.363281 27.914062 10.972656 28.382812 C 8.925781 30.84375 7.945312 33.28125 8.238281 35.1875 C 8.289062 35.527344 8.28125 35.523438 8.917969 35.523438 C 10.941406 35.523438 13.074219 34.207031 15.136719 31.6875 C 15.359375 31.417969 15.328125 31.425781 15.5625 31.574219 C 16.292969 32.042969 18.023438 32.964844 18.175781 32.964844 C 18.335938 32.964844 19.941406 32.210938 20.828125 31.71875 C 20.996094 31.625 21.136719 31.554688 21.136719 31.558594 C 21.203125 31.664062 21.898438 32.414062 22.222656 32.730469 C 23.835938 34.300781 25.5625 35.132812 27.582031 35.300781 C 27.90625 35.328125 27.9375 35.308594 28.007812 34.984375 C 28.382812 33.242188 27.625 30.925781 25.863281 28.425781 L 25.542969 27.96875 L 25.699219 27.785156 C 28.945312 23.960938 29.132812 18.699219 26.257812 11.96875 L 26.207031 11.84375 L 27.945312 12.703125 C 31.53125 14.476562 32.316406 14.800781 33.03125 14.800781 C 33.976562 14.800781 33.78125 13.9375 32.472656 12.292969 C 28.519531 7.355469 25.394531 5.925781 21.921875 7.472656 L 21.558594 7.636719 L 21.578125 7.542969 C 21.699219 6.992188 21.761719 5.742188 21.699219 5.164062 C 21.496094 3.296875 20.664062 1.964844 19.003906 0.855469 C 18.480469 0.503906 18.457031 0.5 18.214844 0.632812\"/>\n",
              "</g>\n",
              "      </svg>\n",
              "    "
            ]
          },
          "metadata": {}
        }
      ]
    },
    {
      "cell_type": "code",
      "source": [
        "my_c = 'F-G-G'\n",
        "ang = 120\n",
        "iterar(my_c,1, ang)"
      ],
      "metadata": {
        "colab": {
          "base_uri": "https://localhost:8080/",
          "height": 522
        },
        "id": "BuE1CHKVLiB-",
        "outputId": "d5062576-8481-4bb1-e2b3-ced0cc5df4d2"
      },
      "execution_count": null,
      "outputs": [
        {
          "output_type": "display_data",
          "data": {
            "text/plain": [
              "<IPython.core.display.HTML object>"
            ],
            "text/html": [
              "\n",
              "      <svg width=\"800\" height=\"500\">\n",
              "        <rect width=\"100%\" height=\"100%\" fill=\"black\"/>\n",
              "        <line x1=\"0\" y1=\"250\" x2=\"88.889\" y2=\"250.0\" stroke-linecap=\"round\" style=\"stroke:white;stroke-width:4\"/><line x1=\"88.889\" y1=\"250.0\" x2=\"44.445\" y2=\"173.02\" stroke-linecap=\"round\" style=\"stroke:white;stroke-width:4\"/><line x1=\"44.445\" y1=\"173.02\" x2=\"133.334\" y2=\"173.02\" stroke-linecap=\"round\" style=\"stroke:white;stroke-width:4\"/><line x1=\"133.334\" y1=\"173.02\" x2=\"88.89\" y2=\"250.0\" stroke-linecap=\"round\" style=\"stroke:white;stroke-width:4\"/><line x1=\"88.89\" y1=\"250.0\" x2=\"177.779\" y2=\"250.0\" stroke-linecap=\"round\" style=\"stroke:white;stroke-width:4\"/><line x1=\"177.779\" y1=\"250.0\" x2=\"133.335\" y2=\"173.02\" stroke-linecap=\"round\" style=\"stroke:white;stroke-width:4\"/><line x1=\"133.335\" y1=\"173.02\" x2=\"88.891\" y2=\"96.04\" stroke-linecap=\"round\" style=\"stroke:white;stroke-width:4\"/><line x1=\"88.891\" y1=\"96.04\" x2=\"44.447\" y2=\"173.02\" stroke-linecap=\"round\" style=\"stroke:white;stroke-width:4\"/><line x1=\"44.447\" y1=\"173.02\" x2=\"0.003\" y2=\"250.0\" stroke-linecap=\"round\" style=\"stroke:white;stroke-width:4\"/>\n",
              "        <g visibility=visible transform=\"rotate(210,0.003,250.0) translate(-17.997, 232.0)\">\n",
              "<path style=\" stroke:none;fill-rule:evenodd;fill:white;fill-opacity:1;\" d=\"M 18.214844 0.632812 C 16.109375 1.800781 15.011719 4.074219 15.074219 7.132812 L 15.085938 7.652344 L 14.785156 7.496094 C 13.476562 6.824219 11.957031 6.671875 10.40625 7.066406 C 8.46875 7.550781 6.515625 9.15625 4.394531 11.992188 C 3.0625 13.777344 2.679688 14.636719 3.042969 15.027344 L 3.15625 15.152344 L 3.519531 15.152344 C 4.238281 15.152344 4.828125 14.886719 8.1875 13.039062 C 9.386719 12.378906 10.371094 11.839844 10.378906 11.839844 C 10.386719 11.839844 10.355469 11.929688 10.304688 12.035156 C 9.832031 13.09375 9.257812 14.820312 8.96875 16.078125 C 7.914062 20.652344 8.617188 24.53125 11.070312 27.660156 C 11.351562 28.015625 11.363281 27.914062 10.972656 28.382812 C 8.925781 30.84375 7.945312 33.28125 8.238281 35.1875 C 8.289062 35.527344 8.28125 35.523438 8.917969 35.523438 C 10.941406 35.523438 13.074219 34.207031 15.136719 31.6875 C 15.359375 31.417969 15.328125 31.425781 15.5625 31.574219 C 16.292969 32.042969 18.023438 32.964844 18.175781 32.964844 C 18.335938 32.964844 19.941406 32.210938 20.828125 31.71875 C 20.996094 31.625 21.136719 31.554688 21.136719 31.558594 C 21.203125 31.664062 21.898438 32.414062 22.222656 32.730469 C 23.835938 34.300781 25.5625 35.132812 27.582031 35.300781 C 27.90625 35.328125 27.9375 35.308594 28.007812 34.984375 C 28.382812 33.242188 27.625 30.925781 25.863281 28.425781 L 25.542969 27.96875 L 25.699219 27.785156 C 28.945312 23.960938 29.132812 18.699219 26.257812 11.96875 L 26.207031 11.84375 L 27.945312 12.703125 C 31.53125 14.476562 32.316406 14.800781 33.03125 14.800781 C 33.976562 14.800781 33.78125 13.9375 32.472656 12.292969 C 28.519531 7.355469 25.394531 5.925781 21.921875 7.472656 L 21.558594 7.636719 L 21.578125 7.542969 C 21.699219 6.992188 21.761719 5.742188 21.699219 5.164062 C 21.496094 3.296875 20.664062 1.964844 19.003906 0.855469 C 18.480469 0.503906 18.457031 0.5 18.214844 0.632812\"/>\n",
              "</g>\n",
              "      </svg>\n",
              "    "
            ]
          },
          "metadata": {}
        }
      ]
    },
    {
      "cell_type": "code",
      "source": [
        "my_c = 'F-G-G'\n",
        "ang = 120\n",
        "iterar(my_c,2, ang)"
      ],
      "metadata": {
        "colab": {
          "base_uri": "https://localhost:8080/",
          "height": 522
        },
        "id": "QmCUiss32AFQ",
        "outputId": "b72b41cf-80ef-426b-d39f-8f62b21e5334"
      },
      "execution_count": null,
      "outputs": [
        {
          "output_type": "display_data",
          "data": {
            "text/plain": [
              "<IPython.core.display.HTML object>"
            ],
            "text/html": [
              "\n",
              "      <svg width=\"800\" height=\"500\">\n",
              "        <rect width=\"100%\" height=\"100%\" fill=\"black\"/>\n",
              "        <line x1=\"0\" y1=\"250\" x2=\"29.63\" y2=\"250.0\" stroke-linecap=\"round\" style=\"stroke:white;stroke-width:4\"/><line x1=\"29.63\" y1=\"250.0\" x2=\"14.815\" y2=\"224.34\" stroke-linecap=\"round\" style=\"stroke:white;stroke-width:4\"/><line x1=\"14.815\" y1=\"224.34\" x2=\"44.445\" y2=\"224.34\" stroke-linecap=\"round\" style=\"stroke:white;stroke-width:4\"/><line x1=\"44.445\" y1=\"224.34\" x2=\"29.63\" y2=\"250.0\" stroke-linecap=\"round\" style=\"stroke:white;stroke-width:4\"/><line x1=\"29.63\" y1=\"250.0\" x2=\"59.26\" y2=\"250.0\" stroke-linecap=\"round\" style=\"stroke:white;stroke-width:4\"/><line x1=\"59.26\" y1=\"250.0\" x2=\"44.445\" y2=\"224.34\" stroke-linecap=\"round\" style=\"stroke:white;stroke-width:4\"/><line x1=\"44.445\" y1=\"224.34\" x2=\"29.63\" y2=\"198.68\" stroke-linecap=\"round\" style=\"stroke:white;stroke-width:4\"/><line x1=\"29.63\" y1=\"198.68\" x2=\"59.26\" y2=\"198.68\" stroke-linecap=\"round\" style=\"stroke:white;stroke-width:4\"/><line x1=\"59.26\" y1=\"198.68\" x2=\"44.445\" y2=\"173.02\" stroke-linecap=\"round\" style=\"stroke:white;stroke-width:4\"/><line x1=\"44.445\" y1=\"173.02\" x2=\"74.075\" y2=\"173.02\" stroke-linecap=\"round\" style=\"stroke:white;stroke-width:4\"/><line x1=\"74.075\" y1=\"173.02\" x2=\"59.26\" y2=\"198.68\" stroke-linecap=\"round\" style=\"stroke:white;stroke-width:4\"/><line x1=\"59.26\" y1=\"198.68\" x2=\"88.89\" y2=\"198.68\" stroke-linecap=\"round\" style=\"stroke:white;stroke-width:4\"/><line x1=\"88.89\" y1=\"198.68\" x2=\"74.075\" y2=\"224.34\" stroke-linecap=\"round\" style=\"stroke:white;stroke-width:4\"/><line x1=\"74.075\" y1=\"224.34\" x2=\"59.26\" y2=\"250.0\" stroke-linecap=\"round\" style=\"stroke:white;stroke-width:4\"/><line x1=\"59.26\" y1=\"250.0\" x2=\"88.89\" y2=\"250.0\" stroke-linecap=\"round\" style=\"stroke:white;stroke-width:4\"/><line x1=\"88.89\" y1=\"250.0\" x2=\"74.075\" y2=\"224.34\" stroke-linecap=\"round\" style=\"stroke:white;stroke-width:4\"/><line x1=\"74.075\" y1=\"224.34\" x2=\"103.705\" y2=\"224.34\" stroke-linecap=\"round\" style=\"stroke:white;stroke-width:4\"/><line x1=\"103.705\" y1=\"224.34\" x2=\"88.89\" y2=\"250.0\" stroke-linecap=\"round\" style=\"stroke:white;stroke-width:4\"/><line x1=\"88.89\" y1=\"250.0\" x2=\"118.52\" y2=\"250.0\" stroke-linecap=\"round\" style=\"stroke:white;stroke-width:4\"/><line x1=\"118.52\" y1=\"250.0\" x2=\"103.705\" y2=\"224.34\" stroke-linecap=\"round\" style=\"stroke:white;stroke-width:4\"/><line x1=\"103.705\" y1=\"224.34\" x2=\"88.89\" y2=\"198.68\" stroke-linecap=\"round\" style=\"stroke:white;stroke-width:4\"/><line x1=\"88.89\" y1=\"198.68\" x2=\"74.075\" y2=\"173.02\" stroke-linecap=\"round\" style=\"stroke:white;stroke-width:4\"/><line x1=\"74.075\" y1=\"173.02\" x2=\"59.26\" y2=\"147.36\" stroke-linecap=\"round\" style=\"stroke:white;stroke-width:4\"/><line x1=\"59.26\" y1=\"147.36\" x2=\"44.445\" y2=\"173.02\" stroke-linecap=\"round\" style=\"stroke:white;stroke-width:4\"/><line x1=\"44.445\" y1=\"173.02\" x2=\"29.63\" y2=\"198.68\" stroke-linecap=\"round\" style=\"stroke:white;stroke-width:4\"/><line x1=\"29.63\" y1=\"198.68\" x2=\"14.815\" y2=\"224.34\" stroke-linecap=\"round\" style=\"stroke:white;stroke-width:4\"/><line x1=\"14.815\" y1=\"224.34\" x2=\"0.0\" y2=\"250.0\" stroke-linecap=\"round\" style=\"stroke:white;stroke-width:4\"/>\n",
              "        <g visibility=visible transform=\"rotate(210,0.0,250.0) translate(-18.0, 232.0)\">\n",
              "<path style=\" stroke:none;fill-rule:evenodd;fill:white;fill-opacity:1;\" d=\"M 18.214844 0.632812 C 16.109375 1.800781 15.011719 4.074219 15.074219 7.132812 L 15.085938 7.652344 L 14.785156 7.496094 C 13.476562 6.824219 11.957031 6.671875 10.40625 7.066406 C 8.46875 7.550781 6.515625 9.15625 4.394531 11.992188 C 3.0625 13.777344 2.679688 14.636719 3.042969 15.027344 L 3.15625 15.152344 L 3.519531 15.152344 C 4.238281 15.152344 4.828125 14.886719 8.1875 13.039062 C 9.386719 12.378906 10.371094 11.839844 10.378906 11.839844 C 10.386719 11.839844 10.355469 11.929688 10.304688 12.035156 C 9.832031 13.09375 9.257812 14.820312 8.96875 16.078125 C 7.914062 20.652344 8.617188 24.53125 11.070312 27.660156 C 11.351562 28.015625 11.363281 27.914062 10.972656 28.382812 C 8.925781 30.84375 7.945312 33.28125 8.238281 35.1875 C 8.289062 35.527344 8.28125 35.523438 8.917969 35.523438 C 10.941406 35.523438 13.074219 34.207031 15.136719 31.6875 C 15.359375 31.417969 15.328125 31.425781 15.5625 31.574219 C 16.292969 32.042969 18.023438 32.964844 18.175781 32.964844 C 18.335938 32.964844 19.941406 32.210938 20.828125 31.71875 C 20.996094 31.625 21.136719 31.554688 21.136719 31.558594 C 21.203125 31.664062 21.898438 32.414062 22.222656 32.730469 C 23.835938 34.300781 25.5625 35.132812 27.582031 35.300781 C 27.90625 35.328125 27.9375 35.308594 28.007812 34.984375 C 28.382812 33.242188 27.625 30.925781 25.863281 28.425781 L 25.542969 27.96875 L 25.699219 27.785156 C 28.945312 23.960938 29.132812 18.699219 26.257812 11.96875 L 26.207031 11.84375 L 27.945312 12.703125 C 31.53125 14.476562 32.316406 14.800781 33.03125 14.800781 C 33.976562 14.800781 33.78125 13.9375 32.472656 12.292969 C 28.519531 7.355469 25.394531 5.925781 21.921875 7.472656 L 21.558594 7.636719 L 21.578125 7.542969 C 21.699219 6.992188 21.761719 5.742188 21.699219 5.164062 C 21.496094 3.296875 20.664062 1.964844 19.003906 0.855469 C 18.480469 0.503906 18.457031 0.5 18.214844 0.632812\"/>\n",
              "</g>\n",
              "      </svg>\n",
              "    "
            ]
          },
          "metadata": {}
        }
      ]
    },
    {
      "cell_type": "code",
      "source": [
        "my_c = 'F-G-G'\n",
        "ang = 120\n",
        "iterar(my_c,3, ang)"
      ],
      "metadata": {
        "colab": {
          "base_uri": "https://localhost:8080/",
          "height": 522
        },
        "id": "3mvoo8PB2OAN",
        "outputId": "319b06cf-3b0f-4cf1-c912-0ede20455704"
      },
      "execution_count": null,
      "outputs": [
        {
          "output_type": "display_data",
          "data": {
            "text/plain": [
              "<IPython.core.display.HTML object>"
            ],
            "text/html": [
              "\n",
              "      <svg width=\"800\" height=\"500\">\n",
              "        <rect width=\"100%\" height=\"100%\" fill=\"black\"/>\n",
              "        <line x1=\"0\" y1=\"250\" x2=\"9.877\" y2=\"250.0\" stroke-linecap=\"round\" style=\"stroke:white;stroke-width:4\"/><line x1=\"9.877\" y1=\"250.0\" x2=\"4.939\" y2=\"241.447\" stroke-linecap=\"round\" style=\"stroke:white;stroke-width:4\"/><line x1=\"4.939\" y1=\"241.447\" x2=\"14.816\" y2=\"241.447\" stroke-linecap=\"round\" style=\"stroke:white;stroke-width:4\"/><line x1=\"14.816\" y1=\"241.447\" x2=\"9.878\" y2=\"250.0\" stroke-linecap=\"round\" style=\"stroke:white;stroke-width:4\"/><line x1=\"9.878\" y1=\"250.0\" x2=\"19.755\" y2=\"250.0\" stroke-linecap=\"round\" style=\"stroke:white;stroke-width:4\"/><line x1=\"19.755\" y1=\"250.0\" x2=\"14.817\" y2=\"241.447\" stroke-linecap=\"round\" style=\"stroke:white;stroke-width:4\"/><line x1=\"14.817\" y1=\"241.447\" x2=\"9.879\" y2=\"232.894\" stroke-linecap=\"round\" style=\"stroke:white;stroke-width:4\"/><line x1=\"9.879\" y1=\"232.894\" x2=\"19.756\" y2=\"232.894\" stroke-linecap=\"round\" style=\"stroke:white;stroke-width:4\"/><line x1=\"19.756\" y1=\"232.894\" x2=\"14.818\" y2=\"224.341\" stroke-linecap=\"round\" style=\"stroke:white;stroke-width:4\"/><line x1=\"14.818\" y1=\"224.341\" x2=\"24.695\" y2=\"224.341\" stroke-linecap=\"round\" style=\"stroke:white;stroke-width:4\"/><line x1=\"24.695\" y1=\"224.341\" x2=\"19.757\" y2=\"232.894\" stroke-linecap=\"round\" style=\"stroke:white;stroke-width:4\"/><line x1=\"19.757\" y1=\"232.894\" x2=\"29.634\" y2=\"232.894\" stroke-linecap=\"round\" style=\"stroke:white;stroke-width:4\"/><line x1=\"29.634\" y1=\"232.894\" x2=\"24.696\" y2=\"241.447\" stroke-linecap=\"round\" style=\"stroke:white;stroke-width:4\"/><line x1=\"24.696\" y1=\"241.447\" x2=\"19.758\" y2=\"250.0\" stroke-linecap=\"round\" style=\"stroke:white;stroke-width:4\"/><line x1=\"19.758\" y1=\"250.0\" x2=\"29.635\" y2=\"250.0\" stroke-linecap=\"round\" style=\"stroke:white;stroke-width:4\"/><line x1=\"29.635\" y1=\"250.0\" x2=\"24.697\" y2=\"241.447\" stroke-linecap=\"round\" style=\"stroke:white;stroke-width:4\"/><line x1=\"24.697\" y1=\"241.447\" x2=\"34.574\" y2=\"241.447\" stroke-linecap=\"round\" style=\"stroke:white;stroke-width:4\"/><line x1=\"34.574\" y1=\"241.447\" x2=\"29.636\" y2=\"250.0\" stroke-linecap=\"round\" style=\"stroke:white;stroke-width:4\"/><line x1=\"29.636\" y1=\"250.0\" x2=\"39.513\" y2=\"250.0\" stroke-linecap=\"round\" style=\"stroke:white;stroke-width:4\"/><line x1=\"39.513\" y1=\"250.0\" x2=\"34.575\" y2=\"241.447\" stroke-linecap=\"round\" style=\"stroke:white;stroke-width:4\"/><line x1=\"34.575\" y1=\"241.447\" x2=\"29.637\" y2=\"232.894\" stroke-linecap=\"round\" style=\"stroke:white;stroke-width:4\"/><line x1=\"29.637\" y1=\"232.894\" x2=\"24.699\" y2=\"224.341\" stroke-linecap=\"round\" style=\"stroke:white;stroke-width:4\"/><line x1=\"24.699\" y1=\"224.341\" x2=\"19.761\" y2=\"215.788\" stroke-linecap=\"round\" style=\"stroke:white;stroke-width:4\"/><line x1=\"19.761\" y1=\"215.788\" x2=\"29.638\" y2=\"215.788\" stroke-linecap=\"round\" style=\"stroke:white;stroke-width:4\"/><line x1=\"29.638\" y1=\"215.788\" x2=\"24.7\" y2=\"207.235\" stroke-linecap=\"round\" style=\"stroke:white;stroke-width:4\"/><line x1=\"24.7\" y1=\"207.235\" x2=\"34.577\" y2=\"207.235\" stroke-linecap=\"round\" style=\"stroke:white;stroke-width:4\"/><line x1=\"34.577\" y1=\"207.235\" x2=\"29.639\" y2=\"215.788\" stroke-linecap=\"round\" style=\"stroke:white;stroke-width:4\"/><line x1=\"29.639\" y1=\"215.788\" x2=\"39.516\" y2=\"215.788\" stroke-linecap=\"round\" style=\"stroke:white;stroke-width:4\"/><line x1=\"39.516\" y1=\"215.788\" x2=\"34.578\" y2=\"207.235\" stroke-linecap=\"round\" style=\"stroke:white;stroke-width:4\"/><line x1=\"34.578\" y1=\"207.235\" x2=\"29.64\" y2=\"198.682\" stroke-linecap=\"round\" style=\"stroke:white;stroke-width:4\"/><line x1=\"29.64\" y1=\"198.682\" x2=\"39.517\" y2=\"198.682\" stroke-linecap=\"round\" style=\"stroke:white;stroke-width:4\"/><line x1=\"39.517\" y1=\"198.682\" x2=\"34.579\" y2=\"190.129\" stroke-linecap=\"round\" style=\"stroke:white;stroke-width:4\"/><line x1=\"34.579\" y1=\"190.129\" x2=\"44.456\" y2=\"190.129\" stroke-linecap=\"round\" style=\"stroke:white;stroke-width:4\"/><line x1=\"44.456\" y1=\"190.129\" x2=\"39.518\" y2=\"198.682\" stroke-linecap=\"round\" style=\"stroke:white;stroke-width:4\"/><line x1=\"39.518\" y1=\"198.682\" x2=\"49.395\" y2=\"198.682\" stroke-linecap=\"round\" style=\"stroke:white;stroke-width:4\"/><line x1=\"49.395\" y1=\"198.682\" x2=\"44.457\" y2=\"207.235\" stroke-linecap=\"round\" style=\"stroke:white;stroke-width:4\"/><line x1=\"44.457\" y1=\"207.235\" x2=\"39.519\" y2=\"215.788\" stroke-linecap=\"round\" style=\"stroke:white;stroke-width:4\"/><line x1=\"39.519\" y1=\"215.788\" x2=\"49.396\" y2=\"215.788\" stroke-linecap=\"round\" style=\"stroke:white;stroke-width:4\"/><line x1=\"49.396\" y1=\"215.788\" x2=\"44.458\" y2=\"207.235\" stroke-linecap=\"round\" style=\"stroke:white;stroke-width:4\"/><line x1=\"44.458\" y1=\"207.235\" x2=\"54.335\" y2=\"207.235\" stroke-linecap=\"round\" style=\"stroke:white;stroke-width:4\"/><line x1=\"54.335\" y1=\"207.235\" x2=\"49.397\" y2=\"215.788\" stroke-linecap=\"round\" style=\"stroke:white;stroke-width:4\"/><line x1=\"49.397\" y1=\"215.788\" x2=\"59.274\" y2=\"215.788\" stroke-linecap=\"round\" style=\"stroke:white;stroke-width:4\"/><line x1=\"59.274\" y1=\"215.788\" x2=\"54.336\" y2=\"224.341\" stroke-linecap=\"round\" style=\"stroke:white;stroke-width:4\"/><line x1=\"54.336\" y1=\"224.341\" x2=\"49.398\" y2=\"232.894\" stroke-linecap=\"round\" style=\"stroke:white;stroke-width:4\"/><line x1=\"49.398\" y1=\"232.894\" x2=\"44.46\" y2=\"241.447\" stroke-linecap=\"round\" style=\"stroke:white;stroke-width:4\"/><line x1=\"44.46\" y1=\"241.447\" x2=\"39.522\" y2=\"250.0\" stroke-linecap=\"round\" style=\"stroke:white;stroke-width:4\"/><line x1=\"39.522\" y1=\"250.0\" x2=\"49.399\" y2=\"250.0\" stroke-linecap=\"round\" style=\"stroke:white;stroke-width:4\"/><line x1=\"49.399\" y1=\"250.0\" x2=\"44.461\" y2=\"241.447\" stroke-linecap=\"round\" style=\"stroke:white;stroke-width:4\"/><line x1=\"44.461\" y1=\"241.447\" x2=\"54.338\" y2=\"241.447\" stroke-linecap=\"round\" style=\"stroke:white;stroke-width:4\"/><line x1=\"54.338\" y1=\"241.447\" x2=\"49.4\" y2=\"250.0\" stroke-linecap=\"round\" style=\"stroke:white;stroke-width:4\"/><line x1=\"49.4\" y1=\"250.0\" x2=\"59.277\" y2=\"250.0\" stroke-linecap=\"round\" style=\"stroke:white;stroke-width:4\"/><line x1=\"59.277\" y1=\"250.0\" x2=\"54.339\" y2=\"241.447\" stroke-linecap=\"round\" style=\"stroke:white;stroke-width:4\"/><line x1=\"54.339\" y1=\"241.447\" x2=\"49.401\" y2=\"232.894\" stroke-linecap=\"round\" style=\"stroke:white;stroke-width:4\"/><line x1=\"49.401\" y1=\"232.894\" x2=\"59.278\" y2=\"232.894\" stroke-linecap=\"round\" style=\"stroke:white;stroke-width:4\"/><line x1=\"59.278\" y1=\"232.894\" x2=\"54.34\" y2=\"224.341\" stroke-linecap=\"round\" style=\"stroke:white;stroke-width:4\"/><line x1=\"54.34\" y1=\"224.341\" x2=\"64.217\" y2=\"224.341\" stroke-linecap=\"round\" style=\"stroke:white;stroke-width:4\"/><line x1=\"64.217\" y1=\"224.341\" x2=\"59.279\" y2=\"232.894\" stroke-linecap=\"round\" style=\"stroke:white;stroke-width:4\"/><line x1=\"59.279\" y1=\"232.894\" x2=\"69.156\" y2=\"232.894\" stroke-linecap=\"round\" style=\"stroke:white;stroke-width:4\"/><line x1=\"69.156\" y1=\"232.894\" x2=\"64.218\" y2=\"241.447\" stroke-linecap=\"round\" style=\"stroke:white;stroke-width:4\"/><line x1=\"64.218\" y1=\"241.447\" x2=\"59.28\" y2=\"250.0\" stroke-linecap=\"round\" style=\"stroke:white;stroke-width:4\"/><line x1=\"59.28\" y1=\"250.0\" x2=\"69.157\" y2=\"250.0\" stroke-linecap=\"round\" style=\"stroke:white;stroke-width:4\"/><line x1=\"69.157\" y1=\"250.0\" x2=\"64.219\" y2=\"241.447\" stroke-linecap=\"round\" style=\"stroke:white;stroke-width:4\"/><line x1=\"64.219\" y1=\"241.447\" x2=\"74.096\" y2=\"241.447\" stroke-linecap=\"round\" style=\"stroke:white;stroke-width:4\"/><line x1=\"74.096\" y1=\"241.447\" x2=\"69.158\" y2=\"250.0\" stroke-linecap=\"round\" style=\"stroke:white;stroke-width:4\"/><line x1=\"69.158\" y1=\"250.0\" x2=\"79.035\" y2=\"250.0\" stroke-linecap=\"round\" style=\"stroke:white;stroke-width:4\"/><line x1=\"79.035\" y1=\"250.0\" x2=\"74.097\" y2=\"241.447\" stroke-linecap=\"round\" style=\"stroke:white;stroke-width:4\"/><line x1=\"74.097\" y1=\"241.447\" x2=\"69.159\" y2=\"232.894\" stroke-linecap=\"round\" style=\"stroke:white;stroke-width:4\"/><line x1=\"69.159\" y1=\"232.894\" x2=\"64.221\" y2=\"224.341\" stroke-linecap=\"round\" style=\"stroke:white;stroke-width:4\"/><line x1=\"64.221\" y1=\"224.341\" x2=\"59.283\" y2=\"215.788\" stroke-linecap=\"round\" style=\"stroke:white;stroke-width:4\"/><line x1=\"59.283\" y1=\"215.788\" x2=\"54.345\" y2=\"207.235\" stroke-linecap=\"round\" style=\"stroke:white;stroke-width:4\"/><line x1=\"54.345\" y1=\"207.235\" x2=\"49.407\" y2=\"198.682\" stroke-linecap=\"round\" style=\"stroke:white;stroke-width:4\"/><line x1=\"49.407\" y1=\"198.682\" x2=\"44.469\" y2=\"190.129\" stroke-linecap=\"round\" style=\"stroke:white;stroke-width:4\"/><line x1=\"44.469\" y1=\"190.129\" x2=\"39.531\" y2=\"181.576\" stroke-linecap=\"round\" style=\"stroke:white;stroke-width:4\"/><line x1=\"39.531\" y1=\"181.576\" x2=\"34.593\" y2=\"190.129\" stroke-linecap=\"round\" style=\"stroke:white;stroke-width:4\"/><line x1=\"34.593\" y1=\"190.129\" x2=\"29.655\" y2=\"198.682\" stroke-linecap=\"round\" style=\"stroke:white;stroke-width:4\"/><line x1=\"29.655\" y1=\"198.682\" x2=\"24.717\" y2=\"207.235\" stroke-linecap=\"round\" style=\"stroke:white;stroke-width:4\"/><line x1=\"24.717\" y1=\"207.235\" x2=\"19.779\" y2=\"215.788\" stroke-linecap=\"round\" style=\"stroke:white;stroke-width:4\"/><line x1=\"19.779\" y1=\"215.788\" x2=\"14.841\" y2=\"224.341\" stroke-linecap=\"round\" style=\"stroke:white;stroke-width:4\"/><line x1=\"14.841\" y1=\"224.341\" x2=\"9.903\" y2=\"232.894\" stroke-linecap=\"round\" style=\"stroke:white;stroke-width:4\"/><line x1=\"9.903\" y1=\"232.894\" x2=\"4.965\" y2=\"241.447\" stroke-linecap=\"round\" style=\"stroke:white;stroke-width:4\"/><line x1=\"4.965\" y1=\"241.447\" x2=\"0.027\" y2=\"250.0\" stroke-linecap=\"round\" style=\"stroke:white;stroke-width:4\"/>\n",
              "        <g visibility=visible transform=\"rotate(210,0.027,250.0) translate(-17.973, 232.0)\">\n",
              "<path style=\" stroke:none;fill-rule:evenodd;fill:white;fill-opacity:1;\" d=\"M 18.214844 0.632812 C 16.109375 1.800781 15.011719 4.074219 15.074219 7.132812 L 15.085938 7.652344 L 14.785156 7.496094 C 13.476562 6.824219 11.957031 6.671875 10.40625 7.066406 C 8.46875 7.550781 6.515625 9.15625 4.394531 11.992188 C 3.0625 13.777344 2.679688 14.636719 3.042969 15.027344 L 3.15625 15.152344 L 3.519531 15.152344 C 4.238281 15.152344 4.828125 14.886719 8.1875 13.039062 C 9.386719 12.378906 10.371094 11.839844 10.378906 11.839844 C 10.386719 11.839844 10.355469 11.929688 10.304688 12.035156 C 9.832031 13.09375 9.257812 14.820312 8.96875 16.078125 C 7.914062 20.652344 8.617188 24.53125 11.070312 27.660156 C 11.351562 28.015625 11.363281 27.914062 10.972656 28.382812 C 8.925781 30.84375 7.945312 33.28125 8.238281 35.1875 C 8.289062 35.527344 8.28125 35.523438 8.917969 35.523438 C 10.941406 35.523438 13.074219 34.207031 15.136719 31.6875 C 15.359375 31.417969 15.328125 31.425781 15.5625 31.574219 C 16.292969 32.042969 18.023438 32.964844 18.175781 32.964844 C 18.335938 32.964844 19.941406 32.210938 20.828125 31.71875 C 20.996094 31.625 21.136719 31.554688 21.136719 31.558594 C 21.203125 31.664062 21.898438 32.414062 22.222656 32.730469 C 23.835938 34.300781 25.5625 35.132812 27.582031 35.300781 C 27.90625 35.328125 27.9375 35.308594 28.007812 34.984375 C 28.382812 33.242188 27.625 30.925781 25.863281 28.425781 L 25.542969 27.96875 L 25.699219 27.785156 C 28.945312 23.960938 29.132812 18.699219 26.257812 11.96875 L 26.207031 11.84375 L 27.945312 12.703125 C 31.53125 14.476562 32.316406 14.800781 33.03125 14.800781 C 33.976562 14.800781 33.78125 13.9375 32.472656 12.292969 C 28.519531 7.355469 25.394531 5.925781 21.921875 7.472656 L 21.558594 7.636719 L 21.578125 7.542969 C 21.699219 6.992188 21.761719 5.742188 21.699219 5.164062 C 21.496094 3.296875 20.664062 1.964844 19.003906 0.855469 C 18.480469 0.503906 18.457031 0.5 18.214844 0.632812\"/>\n",
              "</g>\n",
              "      </svg>\n",
              "    "
            ]
          },
          "metadata": {}
        }
      ]
    },
    {
      "cell_type": "code",
      "source": [
        "my_c = 'L'\n",
        "ang = 90\n",
        "iterar(my_c,1, ang)"
      ],
      "metadata": {
        "colab": {
          "base_uri": "https://localhost:8080/",
          "height": 522
        },
        "id": "niyTY2bgVfOl",
        "outputId": "e29ee335-f758-4d83-c1c2-b68bb3904931"
      },
      "execution_count": null,
      "outputs": [
        {
          "output_type": "display_data",
          "data": {
            "text/plain": [
              "<IPython.core.display.HTML object>"
            ],
            "text/html": [
              "\n",
              "      <svg width=\"800\" height=\"500\">\n",
              "        <rect width=\"100%\" height=\"100%\" fill=\"black\"/>\n",
              "        <line x1=\"0\" y1=\"250\" x2=\"0.0\" y2=\"364.286\" stroke-linecap=\"round\" style=\"stroke:white;stroke-width:4\"/><line x1=\"0.0\" y1=\"364.286\" x2=\"114.286\" y2=\"364.286\" stroke-linecap=\"round\" style=\"stroke:white;stroke-width:4\"/><line x1=\"114.286\" y1=\"364.286\" x2=\"114.286\" y2=\"250.0\" stroke-linecap=\"round\" style=\"stroke:white;stroke-width:4\"/>\n",
              "        <g visibility=visible transform=\"rotate(90,114.286,250.0) translate(96.286, 232.0)\">\n",
              "<path style=\" stroke:none;fill-rule:evenodd;fill:white;fill-opacity:1;\" d=\"M 18.214844 0.632812 C 16.109375 1.800781 15.011719 4.074219 15.074219 7.132812 L 15.085938 7.652344 L 14.785156 7.496094 C 13.476562 6.824219 11.957031 6.671875 10.40625 7.066406 C 8.46875 7.550781 6.515625 9.15625 4.394531 11.992188 C 3.0625 13.777344 2.679688 14.636719 3.042969 15.027344 L 3.15625 15.152344 L 3.519531 15.152344 C 4.238281 15.152344 4.828125 14.886719 8.1875 13.039062 C 9.386719 12.378906 10.371094 11.839844 10.378906 11.839844 C 10.386719 11.839844 10.355469 11.929688 10.304688 12.035156 C 9.832031 13.09375 9.257812 14.820312 8.96875 16.078125 C 7.914062 20.652344 8.617188 24.53125 11.070312 27.660156 C 11.351562 28.015625 11.363281 27.914062 10.972656 28.382812 C 8.925781 30.84375 7.945312 33.28125 8.238281 35.1875 C 8.289062 35.527344 8.28125 35.523438 8.917969 35.523438 C 10.941406 35.523438 13.074219 34.207031 15.136719 31.6875 C 15.359375 31.417969 15.328125 31.425781 15.5625 31.574219 C 16.292969 32.042969 18.023438 32.964844 18.175781 32.964844 C 18.335938 32.964844 19.941406 32.210938 20.828125 31.71875 C 20.996094 31.625 21.136719 31.554688 21.136719 31.558594 C 21.203125 31.664062 21.898438 32.414062 22.222656 32.730469 C 23.835938 34.300781 25.5625 35.132812 27.582031 35.300781 C 27.90625 35.328125 27.9375 35.308594 28.007812 34.984375 C 28.382812 33.242188 27.625 30.925781 25.863281 28.425781 L 25.542969 27.96875 L 25.699219 27.785156 C 28.945312 23.960938 29.132812 18.699219 26.257812 11.96875 L 26.207031 11.84375 L 27.945312 12.703125 C 31.53125 14.476562 32.316406 14.800781 33.03125 14.800781 C 33.976562 14.800781 33.78125 13.9375 32.472656 12.292969 C 28.519531 7.355469 25.394531 5.925781 21.921875 7.472656 L 21.558594 7.636719 L 21.578125 7.542969 C 21.699219 6.992188 21.761719 5.742188 21.699219 5.164062 C 21.496094 3.296875 20.664062 1.964844 19.003906 0.855469 C 18.480469 0.503906 18.457031 0.5 18.214844 0.632812\"/>\n",
              "</g>\n",
              "      </svg>\n",
              "    "
            ]
          },
          "metadata": {}
        }
      ]
    },
    {
      "cell_type": "code",
      "source": [
        "my_c = 'L'\n",
        "ang = 90\n",
        "iterar(my_c,2, ang)"
      ],
      "metadata": {
        "colab": {
          "base_uri": "https://localhost:8080/",
          "height": 522
        },
        "id": "GiaZtqVV2uGN",
        "outputId": "7ba7707d-7827-4ee2-91e5-8e9444bcba16"
      },
      "execution_count": null,
      "outputs": [
        {
          "output_type": "display_data",
          "data": {
            "text/plain": [
              "<IPython.core.display.HTML object>"
            ],
            "text/html": [
              "\n",
              "      <svg width=\"800\" height=\"500\">\n",
              "        <rect width=\"100%\" height=\"100%\" fill=\"black\"/>\n",
              "        <line x1=\"0\" y1=\"250\" x2=\"18.605\" y2=\"250.0\" stroke-linecap=\"round\" style=\"stroke:white;stroke-width:4\"/><line x1=\"18.605\" y1=\"250.0\" x2=\"18.605\" y2=\"268.605\" stroke-linecap=\"round\" style=\"stroke:white;stroke-width:4\"/><line x1=\"18.605\" y1=\"268.605\" x2=\"0.0\" y2=\"268.605\" stroke-linecap=\"round\" style=\"stroke:white;stroke-width:4\"/><line x1=\"0.0\" y1=\"268.605\" x2=\"0.0\" y2=\"287.21\" stroke-linecap=\"round\" style=\"stroke:white;stroke-width:4\"/><line x1=\"0.0\" y1=\"287.21\" x2=\"18.605\" y2=\"287.21\" stroke-linecap=\"round\" style=\"stroke:white;stroke-width:4\"/><line x1=\"18.605\" y1=\"287.21\" x2=\"18.605\" y2=\"305.815\" stroke-linecap=\"round\" style=\"stroke:white;stroke-width:4\"/><line x1=\"18.605\" y1=\"305.815\" x2=\"0.0\" y2=\"305.815\" stroke-linecap=\"round\" style=\"stroke:white;stroke-width:4\"/><line x1=\"0.0\" y1=\"305.815\" x2=\"0.0\" y2=\"324.42\" stroke-linecap=\"round\" style=\"stroke:white;stroke-width:4\"/><line x1=\"0.0\" y1=\"324.42\" x2=\"0.0\" y2=\"343.025\" stroke-linecap=\"round\" style=\"stroke:white;stroke-width:4\"/><line x1=\"0.0\" y1=\"343.025\" x2=\"18.605\" y2=\"343.025\" stroke-linecap=\"round\" style=\"stroke:white;stroke-width:4\"/><line x1=\"18.605\" y1=\"343.025\" x2=\"18.605\" y2=\"324.42\" stroke-linecap=\"round\" style=\"stroke:white;stroke-width:4\"/><line x1=\"18.605\" y1=\"324.42\" x2=\"37.21\" y2=\"324.42\" stroke-linecap=\"round\" style=\"stroke:white;stroke-width:4\"/><line x1=\"37.21\" y1=\"324.42\" x2=\"37.21\" y2=\"305.815\" stroke-linecap=\"round\" style=\"stroke:white;stroke-width:4\"/><line x1=\"37.21\" y1=\"305.815\" x2=\"55.815\" y2=\"305.815\" stroke-linecap=\"round\" style=\"stroke:white;stroke-width:4\"/><line x1=\"55.815\" y1=\"305.815\" x2=\"55.815\" y2=\"324.42\" stroke-linecap=\"round\" style=\"stroke:white;stroke-width:4\"/><line x1=\"55.815\" y1=\"324.42\" x2=\"74.42\" y2=\"324.42\" stroke-linecap=\"round\" style=\"stroke:white;stroke-width:4\"/><line x1=\"74.42\" y1=\"324.42\" x2=\"74.42\" y2=\"343.025\" stroke-linecap=\"round\" style=\"stroke:white;stroke-width:4\"/><line x1=\"74.42\" y1=\"343.025\" x2=\"93.025\" y2=\"343.025\" stroke-linecap=\"round\" style=\"stroke:white;stroke-width:4\"/><line x1=\"93.025\" y1=\"343.025\" x2=\"93.025\" y2=\"324.42\" stroke-linecap=\"round\" style=\"stroke:white;stroke-width:4\"/><line x1=\"93.025\" y1=\"324.42\" x2=\"93.025\" y2=\"305.815\" stroke-linecap=\"round\" style=\"stroke:white;stroke-width:4\"/><line x1=\"93.025\" y1=\"305.815\" x2=\"74.42\" y2=\"305.815\" stroke-linecap=\"round\" style=\"stroke:white;stroke-width:4\"/><line x1=\"74.42\" y1=\"305.815\" x2=\"74.42\" y2=\"287.21\" stroke-linecap=\"round\" style=\"stroke:white;stroke-width:4\"/><line x1=\"74.42\" y1=\"287.21\" x2=\"93.025\" y2=\"287.21\" stroke-linecap=\"round\" style=\"stroke:white;stroke-width:4\"/><line x1=\"93.025\" y1=\"287.21\" x2=\"93.025\" y2=\"268.605\" stroke-linecap=\"round\" style=\"stroke:white;stroke-width:4\"/><line x1=\"93.025\" y1=\"268.605\" x2=\"74.42\" y2=\"268.605\" stroke-linecap=\"round\" style=\"stroke:white;stroke-width:4\"/><line x1=\"74.42\" y1=\"268.605\" x2=\"74.42\" y2=\"250.0\" stroke-linecap=\"round\" style=\"stroke:white;stroke-width:4\"/><line x1=\"74.42\" y1=\"250.0\" x2=\"93.025\" y2=\"250.0\" stroke-linecap=\"round\" style=\"stroke:white;stroke-width:4\"/>\n",
              "        <g visibility=visible transform=\"rotate(90,93.025,250.0) translate(75.025, 232.0)\">\n",
              "<path style=\" stroke:none;fill-rule:evenodd;fill:white;fill-opacity:1;\" d=\"M 18.214844 0.632812 C 16.109375 1.800781 15.011719 4.074219 15.074219 7.132812 L 15.085938 7.652344 L 14.785156 7.496094 C 13.476562 6.824219 11.957031 6.671875 10.40625 7.066406 C 8.46875 7.550781 6.515625 9.15625 4.394531 11.992188 C 3.0625 13.777344 2.679688 14.636719 3.042969 15.027344 L 3.15625 15.152344 L 3.519531 15.152344 C 4.238281 15.152344 4.828125 14.886719 8.1875 13.039062 C 9.386719 12.378906 10.371094 11.839844 10.378906 11.839844 C 10.386719 11.839844 10.355469 11.929688 10.304688 12.035156 C 9.832031 13.09375 9.257812 14.820312 8.96875 16.078125 C 7.914062 20.652344 8.617188 24.53125 11.070312 27.660156 C 11.351562 28.015625 11.363281 27.914062 10.972656 28.382812 C 8.925781 30.84375 7.945312 33.28125 8.238281 35.1875 C 8.289062 35.527344 8.28125 35.523438 8.917969 35.523438 C 10.941406 35.523438 13.074219 34.207031 15.136719 31.6875 C 15.359375 31.417969 15.328125 31.425781 15.5625 31.574219 C 16.292969 32.042969 18.023438 32.964844 18.175781 32.964844 C 18.335938 32.964844 19.941406 32.210938 20.828125 31.71875 C 20.996094 31.625 21.136719 31.554688 21.136719 31.558594 C 21.203125 31.664062 21.898438 32.414062 22.222656 32.730469 C 23.835938 34.300781 25.5625 35.132812 27.582031 35.300781 C 27.90625 35.328125 27.9375 35.308594 28.007812 34.984375 C 28.382812 33.242188 27.625 30.925781 25.863281 28.425781 L 25.542969 27.96875 L 25.699219 27.785156 C 28.945312 23.960938 29.132812 18.699219 26.257812 11.96875 L 26.207031 11.84375 L 27.945312 12.703125 C 31.53125 14.476562 32.316406 14.800781 33.03125 14.800781 C 33.976562 14.800781 33.78125 13.9375 32.472656 12.292969 C 28.519531 7.355469 25.394531 5.925781 21.921875 7.472656 L 21.558594 7.636719 L 21.578125 7.542969 C 21.699219 6.992188 21.761719 5.742188 21.699219 5.164062 C 21.496094 3.296875 20.664062 1.964844 19.003906 0.855469 C 18.480469 0.503906 18.457031 0.5 18.214844 0.632812\"/>\n",
              "</g>\n",
              "      </svg>\n",
              "    "
            ]
          },
          "metadata": {}
        }
      ]
    },
    {
      "cell_type": "code",
      "source": [
        "my_c = 'L'\n",
        "ang = 90\n",
        "iterar(my_c,3, ang)"
      ],
      "metadata": {
        "colab": {
          "base_uri": "https://localhost:8080/",
          "height": 522
        },
        "id": "e0-FOWZb29lg",
        "outputId": "9925d5f1-f5ba-4e58-aea4-cbe00a8ac226"
      },
      "execution_count": null,
      "outputs": [
        {
          "output_type": "display_data",
          "data": {
            "text/plain": [
              "<IPython.core.display.HTML object>"
            ],
            "text/html": [
              "\n",
              "      <svg width=\"800\" height=\"500\">\n",
              "        <rect width=\"100%\" height=\"100%\" fill=\"black\"/>\n",
              "        <line x1=\"0\" y1=\"250\" x2=\"0.0\" y2=\"253.493\" stroke-linecap=\"round\" style=\"stroke:white;stroke-width:4\"/><line x1=\"0.0\" y1=\"253.493\" x2=\"3.493\" y2=\"253.493\" stroke-linecap=\"round\" style=\"stroke:white;stroke-width:4\"/><line x1=\"3.493\" y1=\"253.493\" x2=\"3.493\" y2=\"250.0\" stroke-linecap=\"round\" style=\"stroke:white;stroke-width:4\"/><line x1=\"3.493\" y1=\"250.0\" x2=\"6.986\" y2=\"250.0\" stroke-linecap=\"round\" style=\"stroke:white;stroke-width:4\"/><line x1=\"6.986\" y1=\"250.0\" x2=\"6.986\" y2=\"246.507\" stroke-linecap=\"round\" style=\"stroke:white;stroke-width:4\"/><line x1=\"6.986\" y1=\"246.507\" x2=\"10.479\" y2=\"246.507\" stroke-linecap=\"round\" style=\"stroke:white;stroke-width:4\"/><line x1=\"10.479\" y1=\"246.507\" x2=\"10.479\" y2=\"250.0\" stroke-linecap=\"round\" style=\"stroke:white;stroke-width:4\"/><line x1=\"10.479\" y1=\"250.0\" x2=\"13.972\" y2=\"250.0\" stroke-linecap=\"round\" style=\"stroke:white;stroke-width:4\"/><line x1=\"13.972\" y1=\"250.0\" x2=\"17.465\" y2=\"250.0\" stroke-linecap=\"round\" style=\"stroke:white;stroke-width:4\"/><line x1=\"17.465\" y1=\"250.0\" x2=\"17.465\" y2=\"253.493\" stroke-linecap=\"round\" style=\"stroke:white;stroke-width:4\"/><line x1=\"17.465\" y1=\"253.493\" x2=\"13.972\" y2=\"253.493\" stroke-linecap=\"round\" style=\"stroke:white;stroke-width:4\"/><line x1=\"13.972\" y1=\"253.493\" x2=\"13.972\" y2=\"256.986\" stroke-linecap=\"round\" style=\"stroke:white;stroke-width:4\"/><line x1=\"13.972\" y1=\"256.986\" x2=\"17.465\" y2=\"256.986\" stroke-linecap=\"round\" style=\"stroke:white;stroke-width:4\"/><line x1=\"17.465\" y1=\"256.986\" x2=\"17.465\" y2=\"260.479\" stroke-linecap=\"round\" style=\"stroke:white;stroke-width:4\"/><line x1=\"17.465\" y1=\"260.479\" x2=\"13.972\" y2=\"260.479\" stroke-linecap=\"round\" style=\"stroke:white;stroke-width:4\"/><line x1=\"13.972\" y1=\"260.479\" x2=\"13.972\" y2=\"263.972\" stroke-linecap=\"round\" style=\"stroke:white;stroke-width:4\"/><line x1=\"13.972\" y1=\"263.972\" x2=\"17.465\" y2=\"263.972\" stroke-linecap=\"round\" style=\"stroke:white;stroke-width:4\"/><line x1=\"17.465\" y1=\"263.972\" x2=\"17.465\" y2=\"267.465\" stroke-linecap=\"round\" style=\"stroke:white;stroke-width:4\"/><line x1=\"17.465\" y1=\"267.465\" x2=\"13.972\" y2=\"267.465\" stroke-linecap=\"round\" style=\"stroke:white;stroke-width:4\"/><line x1=\"13.972\" y1=\"267.465\" x2=\"10.479\" y2=\"267.465\" stroke-linecap=\"round\" style=\"stroke:white;stroke-width:4\"/><line x1=\"10.479\" y1=\"267.465\" x2=\"10.479\" y2=\"270.958\" stroke-linecap=\"round\" style=\"stroke:white;stroke-width:4\"/><line x1=\"10.479\" y1=\"270.958\" x2=\"6.986\" y2=\"270.958\" stroke-linecap=\"round\" style=\"stroke:white;stroke-width:4\"/><line x1=\"6.986\" y1=\"270.958\" x2=\"6.986\" y2=\"267.465\" stroke-linecap=\"round\" style=\"stroke:white;stroke-width:4\"/><line x1=\"6.986\" y1=\"267.465\" x2=\"3.493\" y2=\"267.465\" stroke-linecap=\"round\" style=\"stroke:white;stroke-width:4\"/><line x1=\"3.493\" y1=\"267.465\" x2=\"3.493\" y2=\"263.972\" stroke-linecap=\"round\" style=\"stroke:white;stroke-width:4\"/><line x1=\"3.493\" y1=\"263.972\" x2=\"-0.0\" y2=\"263.972\" stroke-linecap=\"round\" style=\"stroke:white;stroke-width:4\"/><line x1=\"-0.0\" y1=\"263.972\" x2=\"0.0\" y2=\"267.465\" stroke-linecap=\"round\" style=\"stroke:white;stroke-width:4\"/><line x1=\"0.0\" y1=\"267.465\" x2=\"0.0\" y2=\"270.958\" stroke-linecap=\"round\" style=\"stroke:white;stroke-width:4\"/><line x1=\"0.0\" y1=\"270.958\" x2=\"3.493\" y2=\"270.958\" stroke-linecap=\"round\" style=\"stroke:white;stroke-width:4\"/><line x1=\"3.493\" y1=\"270.958\" x2=\"3.493\" y2=\"274.451\" stroke-linecap=\"round\" style=\"stroke:white;stroke-width:4\"/><line x1=\"3.493\" y1=\"274.451\" x2=\"-0.0\" y2=\"274.451\" stroke-linecap=\"round\" style=\"stroke:white;stroke-width:4\"/><line x1=\"-0.0\" y1=\"274.451\" x2=\"0.0\" y2=\"277.944\" stroke-linecap=\"round\" style=\"stroke:white;stroke-width:4\"/><line x1=\"0.0\" y1=\"277.944\" x2=\"3.493\" y2=\"277.944\" stroke-linecap=\"round\" style=\"stroke:white;stroke-width:4\"/><line x1=\"3.493\" y1=\"277.944\" x2=\"6.986\" y2=\"277.944\" stroke-linecap=\"round\" style=\"stroke:white;stroke-width:4\"/><line x1=\"6.986\" y1=\"277.944\" x2=\"6.986\" y2=\"281.437\" stroke-linecap=\"round\" style=\"stroke:white;stroke-width:4\"/><line x1=\"6.986\" y1=\"281.437\" x2=\"10.479\" y2=\"281.437\" stroke-linecap=\"round\" style=\"stroke:white;stroke-width:4\"/><line x1=\"10.479\" y1=\"281.437\" x2=\"10.479\" y2=\"284.93\" stroke-linecap=\"round\" style=\"stroke:white;stroke-width:4\"/><line x1=\"10.479\" y1=\"284.93\" x2=\"6.986\" y2=\"284.93\" stroke-linecap=\"round\" style=\"stroke:white;stroke-width:4\"/><line x1=\"6.986\" y1=\"284.93\" x2=\"6.986\" y2=\"288.423\" stroke-linecap=\"round\" style=\"stroke:white;stroke-width:4\"/><line x1=\"6.986\" y1=\"288.423\" x2=\"3.493\" y2=\"288.423\" stroke-linecap=\"round\" style=\"stroke:white;stroke-width:4\"/><line x1=\"3.493\" y1=\"288.423\" x2=\"-0.0\" y2=\"288.423\" stroke-linecap=\"round\" style=\"stroke:white;stroke-width:4\"/><line x1=\"-0.0\" y1=\"288.423\" x2=\"0.0\" y2=\"291.916\" stroke-linecap=\"round\" style=\"stroke:white;stroke-width:4\"/><line x1=\"0.0\" y1=\"291.916\" x2=\"3.493\" y2=\"291.916\" stroke-linecap=\"round\" style=\"stroke:white;stroke-width:4\"/><line x1=\"3.493\" y1=\"291.916\" x2=\"3.493\" y2=\"295.409\" stroke-linecap=\"round\" style=\"stroke:white;stroke-width:4\"/><line x1=\"3.493\" y1=\"295.409\" x2=\"-0.0\" y2=\"295.409\" stroke-linecap=\"round\" style=\"stroke:white;stroke-width:4\"/><line x1=\"-0.0\" y1=\"295.409\" x2=\"0.0\" y2=\"298.902\" stroke-linecap=\"round\" style=\"stroke:white;stroke-width:4\"/><line x1=\"0.0\" y1=\"298.902\" x2=\"3.493\" y2=\"298.902\" stroke-linecap=\"round\" style=\"stroke:white;stroke-width:4\"/><line x1=\"3.493\" y1=\"298.902\" x2=\"3.493\" y2=\"302.395\" stroke-linecap=\"round\" style=\"stroke:white;stroke-width:4\"/><line x1=\"3.493\" y1=\"302.395\" x2=\"-0.0\" y2=\"302.395\" stroke-linecap=\"round\" style=\"stroke:white;stroke-width:4\"/><line x1=\"-0.0\" y1=\"302.395\" x2=\"0.0\" y2=\"305.888\" stroke-linecap=\"round\" style=\"stroke:white;stroke-width:4\"/><line x1=\"0.0\" y1=\"305.888\" x2=\"3.493\" y2=\"305.888\" stroke-linecap=\"round\" style=\"stroke:white;stroke-width:4\"/><line x1=\"3.493\" y1=\"305.888\" x2=\"3.493\" y2=\"309.381\" stroke-linecap=\"round\" style=\"stroke:white;stroke-width:4\"/><line x1=\"3.493\" y1=\"309.381\" x2=\"-0.0\" y2=\"309.381\" stroke-linecap=\"round\" style=\"stroke:white;stroke-width:4\"/><line x1=\"-0.0\" y1=\"309.381\" x2=\"0.0\" y2=\"312.874\" stroke-linecap=\"round\" style=\"stroke:white;stroke-width:4\"/><line x1=\"0.0\" y1=\"312.874\" x2=\"0.0\" y2=\"316.367\" stroke-linecap=\"round\" style=\"stroke:white;stroke-width:4\"/><line x1=\"0.0\" y1=\"316.367\" x2=\"3.493\" y2=\"316.367\" stroke-linecap=\"round\" style=\"stroke:white;stroke-width:4\"/><line x1=\"3.493\" y1=\"316.367\" x2=\"3.493\" y2=\"312.874\" stroke-linecap=\"round\" style=\"stroke:white;stroke-width:4\"/><line x1=\"3.493\" y1=\"312.874\" x2=\"6.986\" y2=\"312.874\" stroke-linecap=\"round\" style=\"stroke:white;stroke-width:4\"/><line x1=\"6.986\" y1=\"312.874\" x2=\"6.986\" y2=\"309.381\" stroke-linecap=\"round\" style=\"stroke:white;stroke-width:4\"/><line x1=\"6.986\" y1=\"309.381\" x2=\"10.479\" y2=\"309.381\" stroke-linecap=\"round\" style=\"stroke:white;stroke-width:4\"/><line x1=\"10.479\" y1=\"309.381\" x2=\"10.479\" y2=\"312.874\" stroke-linecap=\"round\" style=\"stroke:white;stroke-width:4\"/><line x1=\"10.479\" y1=\"312.874\" x2=\"13.972\" y2=\"312.874\" stroke-linecap=\"round\" style=\"stroke:white;stroke-width:4\"/><line x1=\"13.972\" y1=\"312.874\" x2=\"13.972\" y2=\"316.367\" stroke-linecap=\"round\" style=\"stroke:white;stroke-width:4\"/><line x1=\"13.972\" y1=\"316.367\" x2=\"17.465\" y2=\"316.367\" stroke-linecap=\"round\" style=\"stroke:white;stroke-width:4\"/><line x1=\"17.465\" y1=\"316.367\" x2=\"17.465\" y2=\"312.874\" stroke-linecap=\"round\" style=\"stroke:white;stroke-width:4\"/><line x1=\"17.465\" y1=\"312.874\" x2=\"17.465\" y2=\"309.381\" stroke-linecap=\"round\" style=\"stroke:white;stroke-width:4\"/><line x1=\"17.465\" y1=\"309.381\" x2=\"13.972\" y2=\"309.381\" stroke-linecap=\"round\" style=\"stroke:white;stroke-width:4\"/><line x1=\"13.972\" y1=\"309.381\" x2=\"13.972\" y2=\"305.888\" stroke-linecap=\"round\" style=\"stroke:white;stroke-width:4\"/><line x1=\"13.972\" y1=\"305.888\" x2=\"17.465\" y2=\"305.888\" stroke-linecap=\"round\" style=\"stroke:white;stroke-width:4\"/><line x1=\"17.465\" y1=\"305.888\" x2=\"17.465\" y2=\"302.395\" stroke-linecap=\"round\" style=\"stroke:white;stroke-width:4\"/><line x1=\"17.465\" y1=\"302.395\" x2=\"13.972\" y2=\"302.395\" stroke-linecap=\"round\" style=\"stroke:white;stroke-width:4\"/><line x1=\"13.972\" y1=\"302.395\" x2=\"13.972\" y2=\"298.902\" stroke-linecap=\"round\" style=\"stroke:white;stroke-width:4\"/><line x1=\"13.972\" y1=\"298.902\" x2=\"17.465\" y2=\"298.902\" stroke-linecap=\"round\" style=\"stroke:white;stroke-width:4\"/><line x1=\"17.465\" y1=\"298.902\" x2=\"20.958\" y2=\"298.902\" stroke-linecap=\"round\" style=\"stroke:white;stroke-width:4\"/><line x1=\"20.958\" y1=\"298.902\" x2=\"20.958\" y2=\"295.409\" stroke-linecap=\"round\" style=\"stroke:white;stroke-width:4\"/><line x1=\"20.958\" y1=\"295.409\" x2=\"24.451\" y2=\"295.409\" stroke-linecap=\"round\" style=\"stroke:white;stroke-width:4\"/><line x1=\"24.451\" y1=\"295.409\" x2=\"24.451\" y2=\"298.902\" stroke-linecap=\"round\" style=\"stroke:white;stroke-width:4\"/><line x1=\"24.451\" y1=\"298.902\" x2=\"27.944\" y2=\"298.902\" stroke-linecap=\"round\" style=\"stroke:white;stroke-width:4\"/><line x1=\"27.944\" y1=\"298.902\" x2=\"27.944\" y2=\"295.409\" stroke-linecap=\"round\" style=\"stroke:white;stroke-width:4\"/><line x1=\"27.944\" y1=\"295.409\" x2=\"27.944\" y2=\"291.916\" stroke-linecap=\"round\" style=\"stroke:white;stroke-width:4\"/><line x1=\"27.944\" y1=\"291.916\" x2=\"31.437\" y2=\"291.916\" stroke-linecap=\"round\" style=\"stroke:white;stroke-width:4\"/><line x1=\"31.437\" y1=\"291.916\" x2=\"31.437\" y2=\"288.423\" stroke-linecap=\"round\" style=\"stroke:white;stroke-width:4\"/><line x1=\"31.437\" y1=\"288.423\" x2=\"34.93\" y2=\"288.423\" stroke-linecap=\"round\" style=\"stroke:white;stroke-width:4\"/><line x1=\"34.93\" y1=\"288.423\" x2=\"34.93\" y2=\"291.916\" stroke-linecap=\"round\" style=\"stroke:white;stroke-width:4\"/><line x1=\"34.93\" y1=\"291.916\" x2=\"38.423\" y2=\"291.916\" stroke-linecap=\"round\" style=\"stroke:white;stroke-width:4\"/><line x1=\"38.423\" y1=\"291.916\" x2=\"38.423\" y2=\"295.409\" stroke-linecap=\"round\" style=\"stroke:white;stroke-width:4\"/><line x1=\"38.423\" y1=\"295.409\" x2=\"38.423\" y2=\"298.902\" stroke-linecap=\"round\" style=\"stroke:white;stroke-width:4\"/><line x1=\"38.423\" y1=\"298.902\" x2=\"41.916\" y2=\"298.902\" stroke-linecap=\"round\" style=\"stroke:white;stroke-width:4\"/><line x1=\"41.916\" y1=\"298.902\" x2=\"41.916\" y2=\"295.409\" stroke-linecap=\"round\" style=\"stroke:white;stroke-width:4\"/><line x1=\"41.916\" y1=\"295.409\" x2=\"45.409\" y2=\"295.409\" stroke-linecap=\"round\" style=\"stroke:white;stroke-width:4\"/><line x1=\"45.409\" y1=\"295.409\" x2=\"45.409\" y2=\"298.902\" stroke-linecap=\"round\" style=\"stroke:white;stroke-width:4\"/><line x1=\"45.409\" y1=\"298.902\" x2=\"48.902\" y2=\"298.902\" stroke-linecap=\"round\" style=\"stroke:white;stroke-width:4\"/><line x1=\"48.902\" y1=\"298.902\" x2=\"52.395\" y2=\"298.902\" stroke-linecap=\"round\" style=\"stroke:white;stroke-width:4\"/><line x1=\"52.395\" y1=\"298.902\" x2=\"52.395\" y2=\"302.395\" stroke-linecap=\"round\" style=\"stroke:white;stroke-width:4\"/><line x1=\"52.395\" y1=\"302.395\" x2=\"48.902\" y2=\"302.395\" stroke-linecap=\"round\" style=\"stroke:white;stroke-width:4\"/><line x1=\"48.902\" y1=\"302.395\" x2=\"48.902\" y2=\"305.888\" stroke-linecap=\"round\" style=\"stroke:white;stroke-width:4\"/><line x1=\"48.902\" y1=\"305.888\" x2=\"52.395\" y2=\"305.888\" stroke-linecap=\"round\" style=\"stroke:white;stroke-width:4\"/><line x1=\"52.395\" y1=\"305.888\" x2=\"52.395\" y2=\"309.381\" stroke-linecap=\"round\" style=\"stroke:white;stroke-width:4\"/><line x1=\"52.395\" y1=\"309.381\" x2=\"48.902\" y2=\"309.381\" stroke-linecap=\"round\" style=\"stroke:white;stroke-width:4\"/><line x1=\"48.902\" y1=\"309.381\" x2=\"48.902\" y2=\"312.874\" stroke-linecap=\"round\" style=\"stroke:white;stroke-width:4\"/><line x1=\"48.902\" y1=\"312.874\" x2=\"48.902\" y2=\"316.367\" stroke-linecap=\"round\" style=\"stroke:white;stroke-width:4\"/><line x1=\"48.902\" y1=\"316.367\" x2=\"52.395\" y2=\"316.367\" stroke-linecap=\"round\" style=\"stroke:white;stroke-width:4\"/><line x1=\"52.395\" y1=\"316.367\" x2=\"52.395\" y2=\"312.874\" stroke-linecap=\"round\" style=\"stroke:white;stroke-width:4\"/><line x1=\"52.395\" y1=\"312.874\" x2=\"55.888\" y2=\"312.874\" stroke-linecap=\"round\" style=\"stroke:white;stroke-width:4\"/><line x1=\"55.888\" y1=\"312.874\" x2=\"55.888\" y2=\"309.381\" stroke-linecap=\"round\" style=\"stroke:white;stroke-width:4\"/><line x1=\"55.888\" y1=\"309.381\" x2=\"59.381\" y2=\"309.381\" stroke-linecap=\"round\" style=\"stroke:white;stroke-width:4\"/><line x1=\"59.381\" y1=\"309.381\" x2=\"59.381\" y2=\"312.874\" stroke-linecap=\"round\" style=\"stroke:white;stroke-width:4\"/><line x1=\"59.381\" y1=\"312.874\" x2=\"62.874\" y2=\"312.874\" stroke-linecap=\"round\" style=\"stroke:white;stroke-width:4\"/><line x1=\"62.874\" y1=\"312.874\" x2=\"62.874\" y2=\"316.367\" stroke-linecap=\"round\" style=\"stroke:white;stroke-width:4\"/><line x1=\"62.874\" y1=\"316.367\" x2=\"66.367\" y2=\"316.367\" stroke-linecap=\"round\" style=\"stroke:white;stroke-width:4\"/><line x1=\"66.367\" y1=\"316.367\" x2=\"66.367\" y2=\"312.874\" stroke-linecap=\"round\" style=\"stroke:white;stroke-width:4\"/><line x1=\"66.367\" y1=\"312.874\" x2=\"66.367\" y2=\"309.381\" stroke-linecap=\"round\" style=\"stroke:white;stroke-width:4\"/><line x1=\"66.367\" y1=\"309.381\" x2=\"62.874\" y2=\"309.381\" stroke-linecap=\"round\" style=\"stroke:white;stroke-width:4\"/><line x1=\"62.874\" y1=\"309.381\" x2=\"62.874\" y2=\"305.888\" stroke-linecap=\"round\" style=\"stroke:white;stroke-width:4\"/><line x1=\"62.874\" y1=\"305.888\" x2=\"66.367\" y2=\"305.888\" stroke-linecap=\"round\" style=\"stroke:white;stroke-width:4\"/><line x1=\"66.367\" y1=\"305.888\" x2=\"66.367\" y2=\"302.395\" stroke-linecap=\"round\" style=\"stroke:white;stroke-width:4\"/><line x1=\"66.367\" y1=\"302.395\" x2=\"62.874\" y2=\"302.395\" stroke-linecap=\"round\" style=\"stroke:white;stroke-width:4\"/><line x1=\"62.874\" y1=\"302.395\" x2=\"62.874\" y2=\"298.902\" stroke-linecap=\"round\" style=\"stroke:white;stroke-width:4\"/><line x1=\"62.874\" y1=\"298.902\" x2=\"66.367\" y2=\"298.902\" stroke-linecap=\"round\" style=\"stroke:white;stroke-width:4\"/><line x1=\"66.367\" y1=\"298.902\" x2=\"66.367\" y2=\"295.409\" stroke-linecap=\"round\" style=\"stroke:white;stroke-width:4\"/><line x1=\"66.367\" y1=\"295.409\" x2=\"62.874\" y2=\"295.409\" stroke-linecap=\"round\" style=\"stroke:white;stroke-width:4\"/><line x1=\"62.874\" y1=\"295.409\" x2=\"62.874\" y2=\"291.916\" stroke-linecap=\"round\" style=\"stroke:white;stroke-width:4\"/><line x1=\"62.874\" y1=\"291.916\" x2=\"66.367\" y2=\"291.916\" stroke-linecap=\"round\" style=\"stroke:white;stroke-width:4\"/><line x1=\"66.367\" y1=\"291.916\" x2=\"66.367\" y2=\"288.423\" stroke-linecap=\"round\" style=\"stroke:white;stroke-width:4\"/><line x1=\"66.367\" y1=\"288.423\" x2=\"62.874\" y2=\"288.423\" stroke-linecap=\"round\" style=\"stroke:white;stroke-width:4\"/><line x1=\"62.874\" y1=\"288.423\" x2=\"59.381\" y2=\"288.423\" stroke-linecap=\"round\" style=\"stroke:white;stroke-width:4\"/><line x1=\"59.381\" y1=\"288.423\" x2=\"59.381\" y2=\"284.93\" stroke-linecap=\"round\" style=\"stroke:white;stroke-width:4\"/><line x1=\"59.381\" y1=\"284.93\" x2=\"55.888\" y2=\"284.93\" stroke-linecap=\"round\" style=\"stroke:white;stroke-width:4\"/><line x1=\"55.888\" y1=\"284.93\" x2=\"55.888\" y2=\"281.437\" stroke-linecap=\"round\" style=\"stroke:white;stroke-width:4\"/><line x1=\"55.888\" y1=\"281.437\" x2=\"59.381\" y2=\"281.437\" stroke-linecap=\"round\" style=\"stroke:white;stroke-width:4\"/><line x1=\"59.381\" y1=\"281.437\" x2=\"59.381\" y2=\"277.944\" stroke-linecap=\"round\" style=\"stroke:white;stroke-width:4\"/><line x1=\"59.381\" y1=\"277.944\" x2=\"62.874\" y2=\"277.944\" stroke-linecap=\"round\" style=\"stroke:white;stroke-width:4\"/><line x1=\"62.874\" y1=\"277.944\" x2=\"66.367\" y2=\"277.944\" stroke-linecap=\"round\" style=\"stroke:white;stroke-width:4\"/><line x1=\"66.367\" y1=\"277.944\" x2=\"66.367\" y2=\"274.451\" stroke-linecap=\"round\" style=\"stroke:white;stroke-width:4\"/><line x1=\"66.367\" y1=\"274.451\" x2=\"62.874\" y2=\"274.451\" stroke-linecap=\"round\" style=\"stroke:white;stroke-width:4\"/><line x1=\"62.874\" y1=\"274.451\" x2=\"62.874\" y2=\"270.958\" stroke-linecap=\"round\" style=\"stroke:white;stroke-width:4\"/><line x1=\"62.874\" y1=\"270.958\" x2=\"66.367\" y2=\"270.958\" stroke-linecap=\"round\" style=\"stroke:white;stroke-width:4\"/><line x1=\"66.367\" y1=\"270.958\" x2=\"66.367\" y2=\"267.465\" stroke-linecap=\"round\" style=\"stroke:white;stroke-width:4\"/><line x1=\"66.367\" y1=\"267.465\" x2=\"66.367\" y2=\"263.972\" stroke-linecap=\"round\" style=\"stroke:white;stroke-width:4\"/><line x1=\"66.367\" y1=\"263.972\" x2=\"62.874\" y2=\"263.972\" stroke-linecap=\"round\" style=\"stroke:white;stroke-width:4\"/><line x1=\"62.874\" y1=\"263.972\" x2=\"62.874\" y2=\"267.465\" stroke-linecap=\"round\" style=\"stroke:white;stroke-width:4\"/><line x1=\"62.874\" y1=\"267.465\" x2=\"59.381\" y2=\"267.465\" stroke-linecap=\"round\" style=\"stroke:white;stroke-width:4\"/><line x1=\"59.381\" y1=\"267.465\" x2=\"59.381\" y2=\"270.958\" stroke-linecap=\"round\" style=\"stroke:white;stroke-width:4\"/><line x1=\"59.381\" y1=\"270.958\" x2=\"55.888\" y2=\"270.958\" stroke-linecap=\"round\" style=\"stroke:white;stroke-width:4\"/><line x1=\"55.888\" y1=\"270.958\" x2=\"55.888\" y2=\"267.465\" stroke-linecap=\"round\" style=\"stroke:white;stroke-width:4\"/><line x1=\"55.888\" y1=\"267.465\" x2=\"52.395\" y2=\"267.465\" stroke-linecap=\"round\" style=\"stroke:white;stroke-width:4\"/><line x1=\"52.395\" y1=\"267.465\" x2=\"48.902\" y2=\"267.465\" stroke-linecap=\"round\" style=\"stroke:white;stroke-width:4\"/><line x1=\"48.902\" y1=\"267.465\" x2=\"48.902\" y2=\"263.972\" stroke-linecap=\"round\" style=\"stroke:white;stroke-width:4\"/><line x1=\"48.902\" y1=\"263.972\" x2=\"52.395\" y2=\"263.972\" stroke-linecap=\"round\" style=\"stroke:white;stroke-width:4\"/><line x1=\"52.395\" y1=\"263.972\" x2=\"52.395\" y2=\"260.479\" stroke-linecap=\"round\" style=\"stroke:white;stroke-width:4\"/><line x1=\"52.395\" y1=\"260.479\" x2=\"48.902\" y2=\"260.479\" stroke-linecap=\"round\" style=\"stroke:white;stroke-width:4\"/><line x1=\"48.902\" y1=\"260.479\" x2=\"48.902\" y2=\"256.986\" stroke-linecap=\"round\" style=\"stroke:white;stroke-width:4\"/><line x1=\"48.902\" y1=\"256.986\" x2=\"52.395\" y2=\"256.986\" stroke-linecap=\"round\" style=\"stroke:white;stroke-width:4\"/><line x1=\"52.395\" y1=\"256.986\" x2=\"52.395\" y2=\"253.493\" stroke-linecap=\"round\" style=\"stroke:white;stroke-width:4\"/><line x1=\"52.395\" y1=\"253.493\" x2=\"48.902\" y2=\"253.493\" stroke-linecap=\"round\" style=\"stroke:white;stroke-width:4\"/><line x1=\"48.902\" y1=\"253.493\" x2=\"48.902\" y2=\"250.0\" stroke-linecap=\"round\" style=\"stroke:white;stroke-width:4\"/><line x1=\"48.902\" y1=\"250.0\" x2=\"52.395\" y2=\"250.0\" stroke-linecap=\"round\" style=\"stroke:white;stroke-width:4\"/><line x1=\"52.395\" y1=\"250.0\" x2=\"55.888\" y2=\"250.0\" stroke-linecap=\"round\" style=\"stroke:white;stroke-width:4\"/><line x1=\"55.888\" y1=\"250.0\" x2=\"55.888\" y2=\"246.507\" stroke-linecap=\"round\" style=\"stroke:white;stroke-width:4\"/><line x1=\"55.888\" y1=\"246.507\" x2=\"59.381\" y2=\"246.507\" stroke-linecap=\"round\" style=\"stroke:white;stroke-width:4\"/><line x1=\"59.381\" y1=\"246.507\" x2=\"59.381\" y2=\"250.0\" stroke-linecap=\"round\" style=\"stroke:white;stroke-width:4\"/><line x1=\"59.381\" y1=\"250.0\" x2=\"62.874\" y2=\"250.0\" stroke-linecap=\"round\" style=\"stroke:white;stroke-width:4\"/><line x1=\"62.874\" y1=\"250.0\" x2=\"62.874\" y2=\"253.493\" stroke-linecap=\"round\" style=\"stroke:white;stroke-width:4\"/><line x1=\"62.874\" y1=\"253.493\" x2=\"66.367\" y2=\"253.493\" stroke-linecap=\"round\" style=\"stroke:white;stroke-width:4\"/><line x1=\"66.367\" y1=\"253.493\" x2=\"66.367\" y2=\"250.0\" stroke-linecap=\"round\" style=\"stroke:white;stroke-width:4\"/>\n",
              "        <g visibility=visible transform=\"rotate(90,66.367,250.0) translate(48.367000000000004, 232.0)\">\n",
              "<path style=\" stroke:none;fill-rule:evenodd;fill:white;fill-opacity:1;\" d=\"M 18.214844 0.632812 C 16.109375 1.800781 15.011719 4.074219 15.074219 7.132812 L 15.085938 7.652344 L 14.785156 7.496094 C 13.476562 6.824219 11.957031 6.671875 10.40625 7.066406 C 8.46875 7.550781 6.515625 9.15625 4.394531 11.992188 C 3.0625 13.777344 2.679688 14.636719 3.042969 15.027344 L 3.15625 15.152344 L 3.519531 15.152344 C 4.238281 15.152344 4.828125 14.886719 8.1875 13.039062 C 9.386719 12.378906 10.371094 11.839844 10.378906 11.839844 C 10.386719 11.839844 10.355469 11.929688 10.304688 12.035156 C 9.832031 13.09375 9.257812 14.820312 8.96875 16.078125 C 7.914062 20.652344 8.617188 24.53125 11.070312 27.660156 C 11.351562 28.015625 11.363281 27.914062 10.972656 28.382812 C 8.925781 30.84375 7.945312 33.28125 8.238281 35.1875 C 8.289062 35.527344 8.28125 35.523438 8.917969 35.523438 C 10.941406 35.523438 13.074219 34.207031 15.136719 31.6875 C 15.359375 31.417969 15.328125 31.425781 15.5625 31.574219 C 16.292969 32.042969 18.023438 32.964844 18.175781 32.964844 C 18.335938 32.964844 19.941406 32.210938 20.828125 31.71875 C 20.996094 31.625 21.136719 31.554688 21.136719 31.558594 C 21.203125 31.664062 21.898438 32.414062 22.222656 32.730469 C 23.835938 34.300781 25.5625 35.132812 27.582031 35.300781 C 27.90625 35.328125 27.9375 35.308594 28.007812 34.984375 C 28.382812 33.242188 27.625 30.925781 25.863281 28.425781 L 25.542969 27.96875 L 25.699219 27.785156 C 28.945312 23.960938 29.132812 18.699219 26.257812 11.96875 L 26.207031 11.84375 L 27.945312 12.703125 C 31.53125 14.476562 32.316406 14.800781 33.03125 14.800781 C 33.976562 14.800781 33.78125 13.9375 32.472656 12.292969 C 28.519531 7.355469 25.394531 5.925781 21.921875 7.472656 L 21.558594 7.636719 L 21.578125 7.542969 C 21.699219 6.992188 21.761719 5.742188 21.699219 5.164062 C 21.496094 3.296875 20.664062 1.964844 19.003906 0.855469 C 18.480469 0.503906 18.457031 0.5 18.214844 0.632812\"/>\n",
              "</g>\n",
              "      </svg>\n",
              "    "
            ]
          },
          "metadata": {}
        }
      ]
    }
  ]
}